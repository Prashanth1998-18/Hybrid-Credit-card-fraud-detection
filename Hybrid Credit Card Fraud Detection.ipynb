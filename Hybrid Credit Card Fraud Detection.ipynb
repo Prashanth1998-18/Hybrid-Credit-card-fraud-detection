{
 "cells": [
  {
   "cell_type": "code",
   "execution_count": 1,
   "id": "a0f5617e",
   "metadata": {},
   "outputs": [],
   "source": [
    "import pandas as pd\n",
    "from sklearn.ensemble import RandomForestClassifier\n",
    "from sklearn.model_selection import train_test_split\n",
    "from sklearn.preprocessing import StandardScaler\n",
    "from sklearn.feature_selection import SelectFromModel\n",
    "from sklearn.metrics import accuracy_score, confusion_matrix\n",
    "import matplotlib.pyplot as plt\n",
    "from sklearn.decomposition import PCA\n",
    "import scipy.stats as stats\n",
    "import seaborn as sns\n",
    "from sklearn.neighbors import KNeighborsClassifier\n",
    "from sklearn.svm import OneClassSVM\n",
    "from sklearn.pipeline import Pipeline\n",
    "from sklearn.compose import ColumnTransformer\n",
    "import numpy as np\n",
    "from sklearn.ensemble import IsolationForest\n",
    "from sklearn.datasets import make_classification\n",
    "from sklearn.linear_model import LogisticRegression"
   ]
  },
  {
   "cell_type": "code",
   "execution_count": 2,
   "id": "9ab0f481",
   "metadata": {},
   "outputs": [
    {
     "data": {
      "text/html": [
       "<div>\n",
       "<style scoped>\n",
       "    .dataframe tbody tr th:only-of-type {\n",
       "        vertical-align: middle;\n",
       "    }\n",
       "\n",
       "    .dataframe tbody tr th {\n",
       "        vertical-align: top;\n",
       "    }\n",
       "\n",
       "    .dataframe thead th {\n",
       "        text-align: right;\n",
       "    }\n",
       "</style>\n",
       "<table border=\"1\" class=\"dataframe\">\n",
       "  <thead>\n",
       "    <tr style=\"text-align: right;\">\n",
       "      <th></th>\n",
       "      <th>V1</th>\n",
       "      <th>V2</th>\n",
       "      <th>V3</th>\n",
       "      <th>V4</th>\n",
       "      <th>V5</th>\n",
       "      <th>V6</th>\n",
       "      <th>V7</th>\n",
       "      <th>V8</th>\n",
       "      <th>V9</th>\n",
       "      <th>V10</th>\n",
       "      <th>...</th>\n",
       "      <th>V21</th>\n",
       "      <th>V22</th>\n",
       "      <th>V23</th>\n",
       "      <th>V24</th>\n",
       "      <th>V25</th>\n",
       "      <th>V26</th>\n",
       "      <th>V27</th>\n",
       "      <th>V28</th>\n",
       "      <th>Amount</th>\n",
       "      <th>Class</th>\n",
       "    </tr>\n",
       "    <tr>\n",
       "      <th>id</th>\n",
       "      <th></th>\n",
       "      <th></th>\n",
       "      <th></th>\n",
       "      <th></th>\n",
       "      <th></th>\n",
       "      <th></th>\n",
       "      <th></th>\n",
       "      <th></th>\n",
       "      <th></th>\n",
       "      <th></th>\n",
       "      <th></th>\n",
       "      <th></th>\n",
       "      <th></th>\n",
       "      <th></th>\n",
       "      <th></th>\n",
       "      <th></th>\n",
       "      <th></th>\n",
       "      <th></th>\n",
       "      <th></th>\n",
       "      <th></th>\n",
       "      <th></th>\n",
       "    </tr>\n",
       "  </thead>\n",
       "  <tbody>\n",
       "    <tr>\n",
       "      <th>0</th>\n",
       "      <td>-0.260648</td>\n",
       "      <td>-0.469648</td>\n",
       "      <td>2.496266</td>\n",
       "      <td>-0.083724</td>\n",
       "      <td>0.129681</td>\n",
       "      <td>0.732898</td>\n",
       "      <td>0.519014</td>\n",
       "      <td>-0.130006</td>\n",
       "      <td>0.727159</td>\n",
       "      <td>0.637735</td>\n",
       "      <td>...</td>\n",
       "      <td>-0.110552</td>\n",
       "      <td>0.217606</td>\n",
       "      <td>-0.134794</td>\n",
       "      <td>0.165959</td>\n",
       "      <td>0.126280</td>\n",
       "      <td>-0.434824</td>\n",
       "      <td>-0.081230</td>\n",
       "      <td>-0.151045</td>\n",
       "      <td>17982.10</td>\n",
       "      <td>0</td>\n",
       "    </tr>\n",
       "    <tr>\n",
       "      <th>1</th>\n",
       "      <td>0.985100</td>\n",
       "      <td>-0.356045</td>\n",
       "      <td>0.558056</td>\n",
       "      <td>-0.429654</td>\n",
       "      <td>0.277140</td>\n",
       "      <td>0.428605</td>\n",
       "      <td>0.406466</td>\n",
       "      <td>-0.133118</td>\n",
       "      <td>0.347452</td>\n",
       "      <td>0.529808</td>\n",
       "      <td>...</td>\n",
       "      <td>-0.194936</td>\n",
       "      <td>-0.605761</td>\n",
       "      <td>0.079469</td>\n",
       "      <td>-0.577395</td>\n",
       "      <td>0.190090</td>\n",
       "      <td>0.296503</td>\n",
       "      <td>-0.248052</td>\n",
       "      <td>-0.064512</td>\n",
       "      <td>6531.37</td>\n",
       "      <td>0</td>\n",
       "    </tr>\n",
       "    <tr>\n",
       "      <th>2</th>\n",
       "      <td>-0.260272</td>\n",
       "      <td>-0.949385</td>\n",
       "      <td>1.728538</td>\n",
       "      <td>-0.457986</td>\n",
       "      <td>0.074062</td>\n",
       "      <td>1.419481</td>\n",
       "      <td>0.743511</td>\n",
       "      <td>-0.095576</td>\n",
       "      <td>-0.261297</td>\n",
       "      <td>0.690708</td>\n",
       "      <td>...</td>\n",
       "      <td>-0.005020</td>\n",
       "      <td>0.702906</td>\n",
       "      <td>0.945045</td>\n",
       "      <td>-1.154666</td>\n",
       "      <td>-0.605564</td>\n",
       "      <td>-0.312895</td>\n",
       "      <td>-0.300258</td>\n",
       "      <td>-0.244718</td>\n",
       "      <td>2513.54</td>\n",
       "      <td>0</td>\n",
       "    </tr>\n",
       "    <tr>\n",
       "      <th>3</th>\n",
       "      <td>-0.152152</td>\n",
       "      <td>-0.508959</td>\n",
       "      <td>1.746840</td>\n",
       "      <td>-1.090178</td>\n",
       "      <td>0.249486</td>\n",
       "      <td>1.143312</td>\n",
       "      <td>0.518269</td>\n",
       "      <td>-0.065130</td>\n",
       "      <td>-0.205698</td>\n",
       "      <td>0.575231</td>\n",
       "      <td>...</td>\n",
       "      <td>-0.146927</td>\n",
       "      <td>-0.038212</td>\n",
       "      <td>-0.214048</td>\n",
       "      <td>-1.893131</td>\n",
       "      <td>1.003963</td>\n",
       "      <td>-0.515950</td>\n",
       "      <td>-0.165316</td>\n",
       "      <td>0.048424</td>\n",
       "      <td>5384.44</td>\n",
       "      <td>0</td>\n",
       "    </tr>\n",
       "    <tr>\n",
       "      <th>4</th>\n",
       "      <td>-0.206820</td>\n",
       "      <td>-0.165280</td>\n",
       "      <td>1.527053</td>\n",
       "      <td>-0.448293</td>\n",
       "      <td>0.106125</td>\n",
       "      <td>0.530549</td>\n",
       "      <td>0.658849</td>\n",
       "      <td>-0.212660</td>\n",
       "      <td>1.049921</td>\n",
       "      <td>0.968046</td>\n",
       "      <td>...</td>\n",
       "      <td>-0.106984</td>\n",
       "      <td>0.729727</td>\n",
       "      <td>-0.161666</td>\n",
       "      <td>0.312561</td>\n",
       "      <td>-0.414116</td>\n",
       "      <td>1.071126</td>\n",
       "      <td>0.023712</td>\n",
       "      <td>0.419117</td>\n",
       "      <td>14278.97</td>\n",
       "      <td>0</td>\n",
       "    </tr>\n",
       "  </tbody>\n",
       "</table>\n",
       "<p>5 rows × 30 columns</p>\n",
       "</div>"
      ],
      "text/plain": [
       "          V1        V2        V3        V4        V5        V6        V7  \\\n",
       "id                                                                         \n",
       "0  -0.260648 -0.469648  2.496266 -0.083724  0.129681  0.732898  0.519014   \n",
       "1   0.985100 -0.356045  0.558056 -0.429654  0.277140  0.428605  0.406466   \n",
       "2  -0.260272 -0.949385  1.728538 -0.457986  0.074062  1.419481  0.743511   \n",
       "3  -0.152152 -0.508959  1.746840 -1.090178  0.249486  1.143312  0.518269   \n",
       "4  -0.206820 -0.165280  1.527053 -0.448293  0.106125  0.530549  0.658849   \n",
       "\n",
       "          V8        V9       V10  ...       V21       V22       V23       V24  \\\n",
       "id                                ...                                           \n",
       "0  -0.130006  0.727159  0.637735  ... -0.110552  0.217606 -0.134794  0.165959   \n",
       "1  -0.133118  0.347452  0.529808  ... -0.194936 -0.605761  0.079469 -0.577395   \n",
       "2  -0.095576 -0.261297  0.690708  ... -0.005020  0.702906  0.945045 -1.154666   \n",
       "3  -0.065130 -0.205698  0.575231  ... -0.146927 -0.038212 -0.214048 -1.893131   \n",
       "4  -0.212660  1.049921  0.968046  ... -0.106984  0.729727 -0.161666  0.312561   \n",
       "\n",
       "         V25       V26       V27       V28    Amount  Class  \n",
       "id                                                           \n",
       "0   0.126280 -0.434824 -0.081230 -0.151045  17982.10      0  \n",
       "1   0.190090  0.296503 -0.248052 -0.064512   6531.37      0  \n",
       "2  -0.605564 -0.312895 -0.300258 -0.244718   2513.54      0  \n",
       "3   1.003963 -0.515950 -0.165316  0.048424   5384.44      0  \n",
       "4  -0.414116  1.071126  0.023712  0.419117  14278.97      0  \n",
       "\n",
       "[5 rows x 30 columns]"
      ]
     },
     "execution_count": 2,
     "metadata": {},
     "output_type": "execute_result"
    }
   ],
   "source": [
    "credit_data = pd.read_csv('creditcard_2023.csv',index_col=\"id\")\n",
    "credit_data.head()"
   ]
  },
  {
   "cell_type": "markdown",
   "id": "5e540180",
   "metadata": {},
   "source": [
    "### Null Values Check"
   ]
  },
  {
   "cell_type": "code",
   "execution_count": 3,
   "id": "8299c218",
   "metadata": {},
   "outputs": [
    {
     "data": {
      "text/plain": [
       "V1        0\n",
       "V2        0\n",
       "V3        0\n",
       "V4        0\n",
       "V5        0\n",
       "V6        0\n",
       "V7        0\n",
       "V8        0\n",
       "V9        0\n",
       "V10       0\n",
       "V11       0\n",
       "V12       0\n",
       "V13       0\n",
       "V14       0\n",
       "V15       0\n",
       "V16       0\n",
       "V17       0\n",
       "V18       0\n",
       "V19       0\n",
       "V20       0\n",
       "V21       0\n",
       "V22       0\n",
       "V23       0\n",
       "V24       0\n",
       "V25       0\n",
       "V26       0\n",
       "V27       0\n",
       "V28       0\n",
       "Amount    0\n",
       "Class     0\n",
       "dtype: int64"
      ]
     },
     "execution_count": 3,
     "metadata": {},
     "output_type": "execute_result"
    }
   ],
   "source": [
    "credit_data.isna().sum()"
   ]
  },
  {
   "cell_type": "markdown",
   "id": "e5706920",
   "metadata": {},
   "source": [
    "### Class Balance Check"
   ]
  },
  {
   "cell_type": "code",
   "execution_count": 4,
   "id": "a36df7f7",
   "metadata": {},
   "outputs": [
    {
     "data": {
      "image/png": "[encoded data removed]",
      "text/plain": [
       "<Figure size 800x600 with 1 Axes>"
      ]
     },
     "metadata": {},
     "output_type": "display_data"
    }
   ],
   "source": [
    "class_counts = credit_data['Class'].value_counts()\n",
    "plt.figure(figsize=(8, 6))\n",
    "class_counts.plot(kind='bar', color=['orange', 'green'])\n",
    "plt.title('Distribution of Classes')\n",
    "plt.xlabel('Class')\n",
    "plt.ylabel('Count')\n",
    "plt.xticks(rotation=0)\n",
    "plt.show()"
   ]
  },
  {
   "cell_type": "markdown",
   "id": "b84f0715",
   "metadata": {},
   "source": [
    "### Metrics Utility Function"
   ]
  },
  {
   "cell_type": "code",
   "execution_count": 3,
   "id": "bdfe6f26",
   "metadata": {},
   "outputs": [],
   "source": [
    "from sklearn.metrics import f1_score,precision_score,confusion_matrix,accuracy_score\n",
    "def get_metrics(y_test,y_pred):\n",
    "    print(\"Test Accuracy: \", accuracy_score(y_test, y_pred))\n",
    "    print(\"Precision: \",precision_score(y_test, y_pred))\n",
    "    print(\"F1 Score: \",f1_score(y_test, y_pred))\n",
    "    print(\"Confusion Matrix: \",confusion_matrix(y_test, y_pred))"
   ]
  },
  {
   "cell_type": "markdown",
   "id": "c919bbcb",
   "metadata": {},
   "source": [
    "### Train-Test Split"
   ]
  },
  {
   "cell_type": "code",
   "execution_count": 4,
   "id": "cd014bde",
   "metadata": {},
   "outputs": [],
   "source": [
    "X = credit_data.drop('Class', axis=1)\n",
    "y = credit_data['Class']"
   ]
  },
  {
   "cell_type": "code",
   "execution_count": 5,
   "id": "7e09ec4d",
   "metadata": {},
   "outputs": [],
   "source": [
    "X_train, X_test, y_train, y_test = train_test_split(X, y, test_size=0.2, random_state=42)"
   ]
  },
  {
   "cell_type": "markdown",
   "id": "852890b7",
   "metadata": {},
   "source": [
    "### Dimensionality Reduction - Feature Selection"
   ]
  },
  {
   "cell_type": "code",
   "execution_count": 6,
   "id": "86a90d4e",
   "metadata": {},
   "outputs": [],
   "source": [
    "# Step 1: Standardize the features\n",
    "scaler = StandardScaler()\n",
    "X_train_scaled = scaler.fit_transform(X_train)\n",
    "X_test_scaled = scaler.transform(X_test)"
   ]
  },
  {
   "cell_type": "code",
   "execution_count": 7,
   "id": "cf75cb12",
   "metadata": {},
   "outputs": [
    {
     "data": {
      "text/html": [
       "<style>#sk-container-id-1 {color: black;}#sk-container-id-1 pre{padding: 0;}#sk-container-id-1 div.sk-toggleable {background-color: white;}#sk-container-id-1 label.sk-toggleable__label {cursor: pointer;display: block;width: 100%;margin-bottom: 0;padding: 0.3em;box-sizing: border-box;text-align: center;}#sk-container-id-1 label.sk-toggleable__label-arrow:before {content: \"▸\";float: left;margin-right: 0.25em;color: #696969;}#sk-container-id-1 label.sk-toggleable__label-arrow:hover:before {color: black;}#sk-container-id-1 div.sk-estimator:hover label.sk-toggleable__label-arrow:before {color: black;}#sk-container-id-1 div.sk-toggleable__content {max-height: 0;max-width: 0;overflow: hidden;text-align: left;background-color: #f0f8ff;}#sk-container-id-1 div.sk-toggleable__content pre {margin: 0.2em;color: black;border-radius: 0.25em;background-color: #f0f8ff;}#sk-container-id-1 input.sk-toggleable__control:checked~div.sk-toggleable__content {max-height: 200px;max-width: 100%;overflow: auto;}#sk-container-id-1 input.sk-toggleable__control:checked~label.sk-toggleable__label-arrow:before {content: \"▾\";}#sk-container-id-1 div.sk-estimator input.sk-toggleable__control:checked~label.sk-toggleable__label {background-color: #d4ebff;}#sk-container-id-1 div.sk-label input.sk-toggleable__control:checked~label.sk-toggleable__label {background-color: #d4ebff;}#sk-container-id-1 input.sk-hidden--visually {border: 0;clip: rect(1px 1px 1px 1px);clip: rect(1px, 1px, 1px, 1px);height: 1px;margin: -1px;overflow: hidden;padding: 0;position: absolute;width: 1px;}#sk-container-id-1 div.sk-estimator {font-family: monospace;background-color: #f0f8ff;border: 1px dotted black;border-radius: 0.25em;box-sizing: border-box;margin-bottom: 0.5em;}#sk-container-id-1 div.sk-estimator:hover {background-color: #d4ebff;}#sk-container-id-1 div.sk-parallel-item::after {content: \"\";width: 100%;border-bottom: 1px solid gray;flex-grow: 1;}#sk-container-id-1 div.sk-label:hover label.sk-toggleable__label {background-color: #d4ebff;}#sk-container-id-1 div.sk-serial::before {content: \"\";position: absolute;border-left: 1px solid gray;box-sizing: border-box;top: 0;bottom: 0;left: 50%;z-index: 0;}#sk-container-id-1 div.sk-serial {display: flex;flex-direction: column;align-items: center;background-color: white;padding-right: 0.2em;padding-left: 0.2em;position: relative;}#sk-container-id-1 div.sk-item {position: relative;z-index: 1;}#sk-container-id-1 div.sk-parallel {display: flex;align-items: stretch;justify-content: center;background-color: white;position: relative;}#sk-container-id-1 div.sk-item::before, #sk-container-id-1 div.sk-parallel-item::before {content: \"\";position: absolute;border-left: 1px solid gray;box-sizing: border-box;top: 0;bottom: 0;left: 50%;z-index: -1;}#sk-container-id-1 div.sk-parallel-item {display: flex;flex-direction: column;z-index: 1;position: relative;background-color: white;}#sk-container-id-1 div.sk-parallel-item:first-child::after {align-self: flex-end;width: 50%;}#sk-container-id-1 div.sk-parallel-item:last-child::after {align-self: flex-start;width: 50%;}#sk-container-id-1 div.sk-parallel-item:only-child::after {width: 0;}#sk-container-id-1 div.sk-dashed-wrapped {border: 1px dashed gray;margin: 0 0.4em 0.5em 0.4em;box-sizing: border-box;padding-bottom: 0.4em;background-color: white;}#sk-container-id-1 div.sk-label label {font-family: monospace;font-weight: bold;display: inline-block;line-height: 1.2em;}#sk-container-id-1 div.sk-label-container {text-align: center;}#sk-container-id-1 div.sk-container {/* jupyter's `normalize.less` sets `[hidden] { display: none; }` but bootstrap.min.css set `[hidden] { display: none !important; }` so we also need the `!important` here to be able to override the default hidden behavior on the sphinx rendered scikit-learn.org. See: https://github.com/scikit-learn/scikit-learn/issues/21755 */display: inline-block !important;position: relative;}#sk-container-id-1 div.sk-text-repr-fallback {display: none;}</style><div id=\"sk-container-id-1\" class=\"sk-top-container\"><div class=\"sk-text-repr-fallback\"><pre>RandomForestClassifier(random_state=42)</pre><b>In a Jupyter environment, please rerun this cell to show the HTML representation or trust the notebook. <br />On GitHub, the HTML representation is unable to render, please try loading this page with nbviewer.org.</b></div><div class=\"sk-container\" hidden><div class=\"sk-item\"><div class=\"sk-estimator sk-toggleable\"><input class=\"sk-toggleable__control sk-hidden--visually\" id=\"sk-estimator-id-1\" type=\"checkbox\" checked><label for=\"sk-estimator-id-1\" class=\"sk-toggleable__label sk-toggleable__label-arrow\">RandomForestClassifier</label><div class=\"sk-toggleable__content\"><pre>RandomForestClassifier(random_state=42)</pre></div></div></div></div></div>"
      ],
      "text/plain": [
       "RandomForestClassifier(random_state=42)"
      ]
     },
     "execution_count": 7,
     "metadata": {},
     "output_type": "execute_result"
    }
   ],
   "source": [
    "# Step 2: Train a Random Forest model to obtain feature importances\n",
    "rf_model = RandomForestClassifier(n_estimators=100, random_state=42)\n",
    "rf_model.fit(X_train_scaled, y_train)"
   ]
  },
  {
   "cell_type": "code",
   "execution_count": 8,
   "id": "fa881959",
   "metadata": {},
   "outputs": [
    {
     "name": "stdout",
     "output_type": "stream",
     "text": [
      "Feature Importances:\n",
      "[9.16315838e-03 2.15271950e-02 3.75024011e-02 1.47002377e-01\n",
      " 9.54950912e-03 6.99704981e-03 4.39983221e-02 1.04730811e-02\n",
      " 1.20121598e-02 1.66411763e-01 8.84214248e-02 1.04733840e-01\n",
      " 6.26449177e-03 1.37692572e-01 5.55171517e-03 5.39715749e-02\n",
      " 5.84245804e-02 1.04677975e-02 8.14144414e-03 6.08919364e-03\n",
      " 1.49422593e-02 4.32544699e-03 5.32138193e-03 4.89509070e-03\n",
      " 5.50077716e-03 5.62795888e-03 7.46252928e-03 7.46252275e-03\n",
      " 6.63825857e-05]\n"
     ]
    },
    {
     "data": {
      "image/png": "[encoded data removed]",
      "text/plain": [
       "<Figure size 800x600 with 1 Axes>"
      ]
     },
     "metadata": {},
     "output_type": "display_data"
    }
   ],
   "source": [
    "# Step 3: Print feature importances\n",
    "feature_importances = rf_model.feature_importances_\n",
    "print(\"Feature Importances:\")\n",
    "print(feature_importances)\n",
    "# Step 4: Plot a scree plot\n",
    "plt.figure(figsize=(8, 6))\n",
    "plt.plot(sorted(feature_importances, reverse=True), marker='o', linestyle='-', color='b')\n",
    "plt.title('Scree Plot of Feature Importances')\n",
    "plt.xlabel('Features (sorted by importance)')\n",
    "plt.ylabel('Importance Score')\n",
    "plt.grid(True)\n",
    "plt.show()"
   ]
  },
  {
   "cell_type": "code",
   "execution_count": 9,
   "id": "90232d15",
   "metadata": {},
   "outputs": [],
   "source": [
    "threshold = np.sort(feature_importances)[-10]\n",
    "sfm = SelectFromModel(rf_model, threshold=threshold)\n",
    "X_train_selected = sfm.fit_transform(X_train_scaled, y_train)\n",
    "X_test_selected = sfm.transform(X_test_scaled)"
   ]
  },
  {
   "cell_type": "code",
   "execution_count": 10,
   "id": "4110791c",
   "metadata": {},
   "outputs": [
    {
     "name": "stdout",
     "output_type": "stream",
     "text": [
      "Selected Feature Names: Index(['V2', 'V3', 'V4', 'V7', 'V10', 'V11', 'V12', 'V14', 'V16', 'V17'], dtype='object')\n"
     ]
    }
   ],
   "source": [
    "selected_feature_names = X.columns[sfm.get_support()]\n",
    "\n",
    "print(\"Selected Feature Names:\", selected_feature_names)"
   ]
  },
  {
   "cell_type": "markdown",
   "id": "816d0663",
   "metadata": {},
   "source": [
    "### Checking the performance of Feature Selection Dataset on Baseline Model"
   ]
  },
  {
   "cell_type": "code",
   "execution_count": 13,
   "id": "63929cfe",
   "metadata": {},
   "outputs": [
    {
     "data": {
      "text/html": [
       "<style>#sk-container-id-2 {color: black;}#sk-container-id-2 pre{padding: 0;}#sk-container-id-2 div.sk-toggleable {background-color: white;}#sk-container-id-2 label.sk-toggleable__label {cursor: pointer;display: block;width: 100%;margin-bottom: 0;padding: 0.3em;box-sizing: border-box;text-align: center;}#sk-container-id-2 label.sk-toggleable__label-arrow:before {content: \"▸\";float: left;margin-right: 0.25em;color: #696969;}#sk-container-id-2 label.sk-toggleable__label-arrow:hover:before {color: black;}#sk-container-id-2 div.sk-estimator:hover label.sk-toggleable__label-arrow:before {color: black;}#sk-container-id-2 div.sk-toggleable__content {max-height: 0;max-width: 0;overflow: hidden;text-align: left;background-color: #f0f8ff;}#sk-container-id-2 div.sk-toggleable__content pre {margin: 0.2em;color: black;border-radius: 0.25em;background-color: #f0f8ff;}#sk-container-id-2 input.sk-toggleable__control:checked~div.sk-toggleable__content {max-height: 200px;max-width: 100%;overflow: auto;}#sk-container-id-2 input.sk-toggleable__control:checked~label.sk-toggleable__label-arrow:before {content: \"▾\";}#sk-container-id-2 div.sk-estimator input.sk-toggleable__control:checked~label.sk-toggleable__label {background-color: #d4ebff;}#sk-container-id-2 div.sk-label input.sk-toggleable__control:checked~label.sk-toggleable__label {background-color: #d4ebff;}#sk-container-id-2 input.sk-hidden--visually {border: 0;clip: rect(1px 1px 1px 1px);clip: rect(1px, 1px, 1px, 1px);height: 1px;margin: -1px;overflow: hidden;padding: 0;position: absolute;width: 1px;}#sk-container-id-2 div.sk-estimator {font-family: monospace;background-color: #f0f8ff;border: 1px dotted black;border-radius: 0.25em;box-sizing: border-box;margin-bottom: 0.5em;}#sk-container-id-2 div.sk-estimator:hover {background-color: #d4ebff;}#sk-container-id-2 div.sk-parallel-item::after {content: \"\";width: 100%;border-bottom: 1px solid gray;flex-grow: 1;}#sk-container-id-2 div.sk-label:hover label.sk-toggleable__label {background-color: #d4ebff;}#sk-container-id-2 div.sk-serial::before {content: \"\";position: absolute;border-left: 1px solid gray;box-sizing: border-box;top: 0;bottom: 0;left: 50%;z-index: 0;}#sk-container-id-2 div.sk-serial {display: flex;flex-direction: column;align-items: center;background-color: white;padding-right: 0.2em;padding-left: 0.2em;position: relative;}#sk-container-id-2 div.sk-item {position: relative;z-index: 1;}#sk-container-id-2 div.sk-parallel {display: flex;align-items: stretch;justify-content: center;background-color: white;position: relative;}#sk-container-id-2 div.sk-item::before, #sk-container-id-2 div.sk-parallel-item::before {content: \"\";position: absolute;border-left: 1px solid gray;box-sizing: border-box;top: 0;bottom: 0;left: 50%;z-index: -1;}#sk-container-id-2 div.sk-parallel-item {display: flex;flex-direction: column;z-index: 1;position: relative;background-color: white;}#sk-container-id-2 div.sk-parallel-item:first-child::after {align-self: flex-end;width: 50%;}#sk-container-id-2 div.sk-parallel-item:last-child::after {align-self: flex-start;width: 50%;}#sk-container-id-2 div.sk-parallel-item:only-child::after {width: 0;}#sk-container-id-2 div.sk-dashed-wrapped {border: 1px dashed gray;margin: 0 0.4em 0.5em 0.4em;box-sizing: border-box;padding-bottom: 0.4em;background-color: white;}#sk-container-id-2 div.sk-label label {font-family: monospace;font-weight: bold;display: inline-block;line-height: 1.2em;}#sk-container-id-2 div.sk-label-container {text-align: center;}#sk-container-id-2 div.sk-container {/* jupyter's `normalize.less` sets `[hidden] { display: none; }` but bootstrap.min.css set `[hidden] { display: none !important; }` so we also need the `!important` here to be able to override the default hidden behavior on the sphinx rendered scikit-learn.org. See: https://github.com/scikit-learn/scikit-learn/issues/21755 */display: inline-block !important;position: relative;}#sk-container-id-2 div.sk-text-repr-fallback {display: none;}</style><div id=\"sk-container-id-2\" class=\"sk-top-container\"><div class=\"sk-text-repr-fallback\"><pre>LogisticRegression(max_iter=1000)</pre><b>In a Jupyter environment, please rerun this cell to show the HTML representation or trust the notebook. <br />On GitHub, the HTML representation is unable to render, please try loading this page with nbviewer.org.</b></div><div class=\"sk-container\" hidden><div class=\"sk-item\"><div class=\"sk-estimator sk-toggleable\"><input class=\"sk-toggleable__control sk-hidden--visually\" id=\"sk-estimator-id-2\" type=\"checkbox\" checked><label for=\"sk-estimator-id-2\" class=\"sk-toggleable__label sk-toggleable__label-arrow\">LogisticRegression</label><div class=\"sk-toggleable__content\"><pre>LogisticRegression(max_iter=1000)</pre></div></div></div></div></div>"
      ],
      "text/plain": [
       "LogisticRegression(max_iter=1000)"
      ]
     },
     "execution_count": 13,
     "metadata": {},
     "output_type": "execute_result"
    }
   ],
   "source": [
    "log_reg_model1 = LogisticRegression(max_iter=1000)\n",
    "log_reg_model1.fit(X_train_selected,y_train)"
   ]
  },
  {
   "cell_type": "code",
   "execution_count": 14,
   "id": "4a6255f5",
   "metadata": {},
   "outputs": [
    {
     "name": "stdout",
     "output_type": "stream",
     "text": [
      "Test Accuracy:  0.9599651794664369\n",
      "Precision:  0.9779544501376707\n",
      "F1 Score:  0.9592816834649471\n",
      "Confusion Matrix:  [[55541  1209]\n",
      " [ 3344 53632]]\n"
     ]
    }
   ],
   "source": [
    "log_reg_pred = log_reg_model1.predict(X_test_selected)\n",
    "get_metrics(y_test,log_reg_pred)"
   ]
  },
  {
   "cell_type": "markdown",
   "id": "0f6bd7ce",
   "metadata": {},
   "source": [
    "### Dimensionality Reduction - PCA"
   ]
  },
  {
   "cell_type": "code",
   "execution_count": 15,
   "id": "4286438a",
   "metadata": {},
   "outputs": [],
   "source": [
    "scaler = StandardScaler()\n",
    "X_standardized = scaler.fit_transform(X)"
   ]
  },
  {
   "cell_type": "code",
   "execution_count": 16,
   "id": "36371b37",
   "metadata": {},
   "outputs": [],
   "source": [
    "pca = PCA()\n",
    "X_pca = pca.fit_transform(X_standardized)"
   ]
  },
  {
   "cell_type": "code",
   "execution_count": 17,
   "id": "5aeba7b8",
   "metadata": {},
   "outputs": [
    {
     "data": {
      "image/png": "[encoded data removed]",
      "text/plain": [
       "<Figure size 1000x600 with 1 Axes>"
      ]
     },
     "metadata": {},
     "output_type": "display_data"
    }
   ],
   "source": [
    "cumulative_variance_ratio = np.cumsum(pca.explained_variance_ratio_)\n",
    "\n",
    "# Create an elbow plot\n",
    "plt.figure(figsize=(10, 6))\n",
    "plt.plot(range(1, len(cumulative_variance_ratio) + 1), cumulative_variance_ratio, marker='o', linestyle='-', color='b')\n",
    "plt.title('Elbow Plot for PCA')\n",
    "plt.xlabel('Number of Principal Components')\n",
    "plt.ylabel('Cumulative Explained Variance Ratio')\n",
    "plt.grid(True)\n",
    "plt.show()"
   ]
  },
  {
   "cell_type": "code",
   "execution_count": 18,
   "id": "2762f4b5",
   "metadata": {},
   "outputs": [
    {
     "name": "stdout",
     "output_type": "stream",
     "text": [
      "Explained Variance Ratio: [0.33872158 0.09688719 0.06618998 0.06346626 0.04459286 0.03666183\n",
      " 0.03459292 0.03441276 0.02999273 0.02833916 0.02597564 0.02131675\n",
      " 0.01909455 0.0173951  0.01708433 0.0141626  0.01343088 0.01233759\n",
      " 0.01219622 0.009879   0.00972481 0.0085329  0.00815503 0.00744716\n",
      " 0.00675692 0.00656616 0.00629288 0.00601301 0.00378119]\n",
      "Cumulative Explained Variance (k=17): 0.9023\n"
     ]
    }
   ],
   "source": [
    "k = 17\n",
    "X_pca_selected = X_pca[:, :k]\n",
    "\n",
    "# Optionally, you can analyze the explained variance to understand how much information is retained\n",
    "explained_variance_ratio = pca.explained_variance_ratio_\n",
    "cumulative_variance_ratio = np.cumsum(explained_variance_ratio)\n",
    "print(\"Explained Variance Ratio:\", explained_variance_ratio)\n",
    "print(f\"Cumulative Explained Variance (k={k}): {cumulative_variance_ratio[k-1]:.4f}\")\n",
    "\n",
    "# Create a DataFrame with the principal components\n",
    "columns = [f\"PC{i+1}\" for i in range(k)]\n",
    "df_pca = pd.DataFrame(data=X_pca_selected, columns=columns)"
   ]
  },
  {
   "cell_type": "code",
   "execution_count": 19,
   "id": "e5f48e1e",
   "metadata": {},
   "outputs": [],
   "source": [
    "X_train_pca, X_test_pca, y_train_pca, y_test_pca = train_test_split(df_pca, y, test_size=0.2, random_state=42)"
   ]
  },
  {
   "cell_type": "markdown",
   "id": "78dd6fc5",
   "metadata": {},
   "source": [
    "### Checking the performance of PCA Dataset on Baseline Model"
   ]
  },
  {
   "cell_type": "code",
   "execution_count": 20,
   "id": "7cb2bc44",
   "metadata": {},
   "outputs": [
    {
     "data": {
      "text/html": [
       "<style>#sk-container-id-3 {color: black;}#sk-container-id-3 pre{padding: 0;}#sk-container-id-3 div.sk-toggleable {background-color: white;}#sk-container-id-3 label.sk-toggleable__label {cursor: pointer;display: block;width: 100%;margin-bottom: 0;padding: 0.3em;box-sizing: border-box;text-align: center;}#sk-container-id-3 label.sk-toggleable__label-arrow:before {content: \"▸\";float: left;margin-right: 0.25em;color: #696969;}#sk-container-id-3 label.sk-toggleable__label-arrow:hover:before {color: black;}#sk-container-id-3 div.sk-estimator:hover label.sk-toggleable__label-arrow:before {color: black;}#sk-container-id-3 div.sk-toggleable__content {max-height: 0;max-width: 0;overflow: hidden;text-align: left;background-color: #f0f8ff;}#sk-container-id-3 div.sk-toggleable__content pre {margin: 0.2em;color: black;border-radius: 0.25em;background-color: #f0f8ff;}#sk-container-id-3 input.sk-toggleable__control:checked~div.sk-toggleable__content {max-height: 200px;max-width: 100%;overflow: auto;}#sk-container-id-3 input.sk-toggleable__control:checked~label.sk-toggleable__label-arrow:before {content: \"▾\";}#sk-container-id-3 div.sk-estimator input.sk-toggleable__control:checked~label.sk-toggleable__label {background-color: #d4ebff;}#sk-container-id-3 div.sk-label input.sk-toggleable__control:checked~label.sk-toggleable__label {background-color: #d4ebff;}#sk-container-id-3 input.sk-hidden--visually {border: 0;clip: rect(1px 1px 1px 1px);clip: rect(1px, 1px, 1px, 1px);height: 1px;margin: -1px;overflow: hidden;padding: 0;position: absolute;width: 1px;}#sk-container-id-3 div.sk-estimator {font-family: monospace;background-color: #f0f8ff;border: 1px dotted black;border-radius: 0.25em;box-sizing: border-box;margin-bottom: 0.5em;}#sk-container-id-3 div.sk-estimator:hover {background-color: #d4ebff;}#sk-container-id-3 div.sk-parallel-item::after {content: \"\";width: 100%;border-bottom: 1px solid gray;flex-grow: 1;}#sk-container-id-3 div.sk-label:hover label.sk-toggleable__label {background-color: #d4ebff;}#sk-container-id-3 div.sk-serial::before {content: \"\";position: absolute;border-left: 1px solid gray;box-sizing: border-box;top: 0;bottom: 0;left: 50%;z-index: 0;}#sk-container-id-3 div.sk-serial {display: flex;flex-direction: column;align-items: center;background-color: white;padding-right: 0.2em;padding-left: 0.2em;position: relative;}#sk-container-id-3 div.sk-item {position: relative;z-index: 1;}#sk-container-id-3 div.sk-parallel {display: flex;align-items: stretch;justify-content: center;background-color: white;position: relative;}#sk-container-id-3 div.sk-item::before, #sk-container-id-3 div.sk-parallel-item::before {content: \"\";position: absolute;border-left: 1px solid gray;box-sizing: border-box;top: 0;bottom: 0;left: 50%;z-index: -1;}#sk-container-id-3 div.sk-parallel-item {display: flex;flex-direction: column;z-index: 1;position: relative;background-color: white;}#sk-container-id-3 div.sk-parallel-item:first-child::after {align-self: flex-end;width: 50%;}#sk-container-id-3 div.sk-parallel-item:last-child::after {align-self: flex-start;width: 50%;}#sk-container-id-3 div.sk-parallel-item:only-child::after {width: 0;}#sk-container-id-3 div.sk-dashed-wrapped {border: 1px dashed gray;margin: 0 0.4em 0.5em 0.4em;box-sizing: border-box;padding-bottom: 0.4em;background-color: white;}#sk-container-id-3 div.sk-label label {font-family: monospace;font-weight: bold;display: inline-block;line-height: 1.2em;}#sk-container-id-3 div.sk-label-container {text-align: center;}#sk-container-id-3 div.sk-container {/* jupyter's `normalize.less` sets `[hidden] { display: none; }` but bootstrap.min.css set `[hidden] { display: none !important; }` so we also need the `!important` here to be able to override the default hidden behavior on the sphinx rendered scikit-learn.org. See: https://github.com/scikit-learn/scikit-learn/issues/21755 */display: inline-block !important;position: relative;}#sk-container-id-3 div.sk-text-repr-fallback {display: none;}</style><div id=\"sk-container-id-3\" class=\"sk-top-container\"><div class=\"sk-text-repr-fallback\"><pre>LogisticRegression(max_iter=1000)</pre><b>In a Jupyter environment, please rerun this cell to show the HTML representation or trust the notebook. <br />On GitHub, the HTML representation is unable to render, please try loading this page with nbviewer.org.</b></div><div class=\"sk-container\" hidden><div class=\"sk-item\"><div class=\"sk-estimator sk-toggleable\"><input class=\"sk-toggleable__control sk-hidden--visually\" id=\"sk-estimator-id-3\" type=\"checkbox\" checked><label for=\"sk-estimator-id-3\" class=\"sk-toggleable__label sk-toggleable__label-arrow\">LogisticRegression</label><div class=\"sk-toggleable__content\"><pre>LogisticRegression(max_iter=1000)</pre></div></div></div></div></div>"
      ],
      "text/plain": [
       "LogisticRegression(max_iter=1000)"
      ]
     },
     "execution_count": 20,
     "metadata": {},
     "output_type": "execute_result"
    }
   ],
   "source": [
    "log_reg_model2 = LogisticRegression(max_iter=1000)\n",
    "log_reg_model2.fit(X_train_pca,y_train)"
   ]
  },
  {
   "cell_type": "code",
   "execution_count": 21,
   "id": "249b3fc8",
   "metadata": {},
   "outputs": [
    {
     "name": "stdout",
     "output_type": "stream",
     "text": [
      "Test Accuracy:  0.9589451840388302\n",
      "Precision:  0.9753194118823038\n",
      "F1 Score:  0.9583121277868553\n",
      "Confusion Matrix:  [[55392  1358]\n",
      " [ 3311 53665]]\n"
     ]
    }
   ],
   "source": [
    "log_reg_pred2 = log_reg_model2.predict(X_test_pca)\n",
    "get_metrics(y_test_pca,log_reg_pred2)"
   ]
  },
  {
   "cell_type": "markdown",
   "id": "2a565f89",
   "metadata": {},
   "source": [
    "### Independence testing of \"Amount\" Column"
   ]
  },
  {
   "cell_type": "code",
   "execution_count": 22,
   "id": "5ae35bcd",
   "metadata": {},
   "outputs": [],
   "source": [
    "fraud_amounts = credit_data.loc[credit_data['Class'] == 1, 'Amount']\n",
    "non_fraud_amounts = credit_data.loc[credit_data['Class'] == 0, 'Amount']"
   ]
  },
  {
   "cell_type": "code",
   "execution_count": 23,
   "id": "4a389a96",
   "metadata": {},
   "outputs": [
    {
     "name": "stdout",
     "output_type": "stream",
     "text": [
      "Mann-Whitney U Statistic: 40523046082.5\n",
      "P-value: 0.08815506456455785\n",
      "Fail to reject the null hypothesis. There is no significant difference in amounts between fraud and non-fraud transactions.\n"
     ]
    }
   ],
   "source": [
    "statistic, p_value = stats.mannwhitneyu(fraud_amounts, non_fraud_amounts)\n",
    "\n",
    "alpha = 0.05\n",
    "\n",
    "print(\"Mann-Whitney U Statistic:\", statistic)\n",
    "print(\"P-value:\", p_value)\n",
    "\n",
    "if p_value < alpha:\n",
    "    print(\"Reject the null hypothesis. There is a significant difference in amounts between fraud and non-fraud transactions.\")\n",
    "else:\n",
    "    print(\"Fail to reject the null hypothesis. There is no significant difference in amounts between fraud and non-fraud transactions.\")"
   ]
  },
  {
   "cell_type": "code",
   "execution_count": 24,
   "id": "ff69b669",
   "metadata": {},
   "outputs": [
    {
     "data": {
      "image/png": "[encoded data removed]",
      "text/plain": [
       "<Figure size 1200x600 with 2 Axes>"
      ]
     },
     "metadata": {},
     "output_type": "display_data"
    }
   ],
   "source": [
    "fig, (ax1, ax2) = plt.subplots(1, 2, figsize=(12, 6))\n",
    "\n",
    "# Plot for Fraud Transactions\n",
    "sns.histplot(fraud_amounts, bins=30, kde=False, color='red', ax=ax1)\n",
    "ax1.set_xlabel('Amount')\n",
    "ax1.set_ylabel('Count')\n",
    "ax1.set_title('Distribution of Amounts for Fraud Transactions')\n",
    "\n",
    "# Plot for Non-Fraud Transactions\n",
    "sns.histplot(non_fraud_amounts, bins=30, kde=False, color='blue', ax=ax2)\n",
    "ax2.set_xlabel('Amount')\n",
    "ax2.set_ylabel('Count')\n",
    "ax2.set_title('Distribution of Amounts for Non-Fraud Transactions')\n",
    "\n",
    "plt.tight_layout()\n",
    "\n",
    "plt.show()"
   ]
  },
  {
   "cell_type": "markdown",
   "id": "4f4bbe51",
   "metadata": {},
   "source": [
    "## Classification Models"
   ]
  },
  {
   "cell_type": "markdown",
   "id": "52f6343e",
   "metadata": {},
   "source": [
    "### Logistic Regression"
   ]
  },
  {
   "cell_type": "code",
   "execution_count": 25,
   "id": "34e7a33a",
   "metadata": {},
   "outputs": [
    {
     "data": {
      "text/html": [
       "<style>#sk-container-id-4 {color: black;}#sk-container-id-4 pre{padding: 0;}#sk-container-id-4 div.sk-toggleable {background-color: white;}#sk-container-id-4 label.sk-toggleable__label {cursor: pointer;display: block;width: 100%;margin-bottom: 0;padding: 0.3em;box-sizing: border-box;text-align: center;}#sk-container-id-4 label.sk-toggleable__label-arrow:before {content: \"▸\";float: left;margin-right: 0.25em;color: #696969;}#sk-container-id-4 label.sk-toggleable__label-arrow:hover:before {color: black;}#sk-container-id-4 div.sk-estimator:hover label.sk-toggleable__label-arrow:before {color: black;}#sk-container-id-4 div.sk-toggleable__content {max-height: 0;max-width: 0;overflow: hidden;text-align: left;background-color: #f0f8ff;}#sk-container-id-4 div.sk-toggleable__content pre {margin: 0.2em;color: black;border-radius: 0.25em;background-color: #f0f8ff;}#sk-container-id-4 input.sk-toggleable__control:checked~div.sk-toggleable__content {max-height: 200px;max-width: 100%;overflow: auto;}#sk-container-id-4 input.sk-toggleable__control:checked~label.sk-toggleable__label-arrow:before {content: \"▾\";}#sk-container-id-4 div.sk-estimator input.sk-toggleable__control:checked~label.sk-toggleable__label {background-color: #d4ebff;}#sk-container-id-4 div.sk-label input.sk-toggleable__control:checked~label.sk-toggleable__label {background-color: #d4ebff;}#sk-container-id-4 input.sk-hidden--visually {border: 0;clip: rect(1px 1px 1px 1px);clip: rect(1px, 1px, 1px, 1px);height: 1px;margin: -1px;overflow: hidden;padding: 0;position: absolute;width: 1px;}#sk-container-id-4 div.sk-estimator {font-family: monospace;background-color: #f0f8ff;border: 1px dotted black;border-radius: 0.25em;box-sizing: border-box;margin-bottom: 0.5em;}#sk-container-id-4 div.sk-estimator:hover {background-color: #d4ebff;}#sk-container-id-4 div.sk-parallel-item::after {content: \"\";width: 100%;border-bottom: 1px solid gray;flex-grow: 1;}#sk-container-id-4 div.sk-label:hover label.sk-toggleable__label {background-color: #d4ebff;}#sk-container-id-4 div.sk-serial::before {content: \"\";position: absolute;border-left: 1px solid gray;box-sizing: border-box;top: 0;bottom: 0;left: 50%;z-index: 0;}#sk-container-id-4 div.sk-serial {display: flex;flex-direction: column;align-items: center;background-color: white;padding-right: 0.2em;padding-left: 0.2em;position: relative;}#sk-container-id-4 div.sk-item {position: relative;z-index: 1;}#sk-container-id-4 div.sk-parallel {display: flex;align-items: stretch;justify-content: center;background-color: white;position: relative;}#sk-container-id-4 div.sk-item::before, #sk-container-id-4 div.sk-parallel-item::before {content: \"\";position: absolute;border-left: 1px solid gray;box-sizing: border-box;top: 0;bottom: 0;left: 50%;z-index: -1;}#sk-container-id-4 div.sk-parallel-item {display: flex;flex-direction: column;z-index: 1;position: relative;background-color: white;}#sk-container-id-4 div.sk-parallel-item:first-child::after {align-self: flex-end;width: 50%;}#sk-container-id-4 div.sk-parallel-item:last-child::after {align-self: flex-start;width: 50%;}#sk-container-id-4 div.sk-parallel-item:only-child::after {width: 0;}#sk-container-id-4 div.sk-dashed-wrapped {border: 1px dashed gray;margin: 0 0.4em 0.5em 0.4em;box-sizing: border-box;padding-bottom: 0.4em;background-color: white;}#sk-container-id-4 div.sk-label label {font-family: monospace;font-weight: bold;display: inline-block;line-height: 1.2em;}#sk-container-id-4 div.sk-label-container {text-align: center;}#sk-container-id-4 div.sk-container {/* jupyter's `normalize.less` sets `[hidden] { display: none; }` but bootstrap.min.css set `[hidden] { display: none !important; }` so we also need the `!important` here to be able to override the default hidden behavior on the sphinx rendered scikit-learn.org. See: https://github.com/scikit-learn/scikit-learn/issues/21755 */display: inline-block !important;position: relative;}#sk-container-id-4 div.sk-text-repr-fallback {display: none;}</style><div id=\"sk-container-id-4\" class=\"sk-top-container\"><div class=\"sk-text-repr-fallback\"><pre>LogisticRegression(max_iter=1000)</pre><b>In a Jupyter environment, please rerun this cell to show the HTML representation or trust the notebook. <br />On GitHub, the HTML representation is unable to render, please try loading this page with nbviewer.org.</b></div><div class=\"sk-container\" hidden><div class=\"sk-item\"><div class=\"sk-estimator sk-toggleable\"><input class=\"sk-toggleable__control sk-hidden--visually\" id=\"sk-estimator-id-4\" type=\"checkbox\" checked><label for=\"sk-estimator-id-4\" class=\"sk-toggleable__label sk-toggleable__label-arrow\">LogisticRegression</label><div class=\"sk-toggleable__content\"><pre>LogisticRegression(max_iter=1000)</pre></div></div></div></div></div>"
      ],
      "text/plain": [
       "LogisticRegression(max_iter=1000)"
      ]
     },
     "execution_count": 25,
     "metadata": {},
     "output_type": "execute_result"
    }
   ],
   "source": [
    "log_reg_model1 = LogisticRegression(max_iter=1000)\n",
    "log_reg_model1.fit(X_train_selected,y_train)"
   ]
  },
  {
   "cell_type": "code",
   "execution_count": 26,
   "id": "27c71a8e",
   "metadata": {},
   "outputs": [
    {
     "name": "stdout",
     "output_type": "stream",
     "text": [
      "Test Accuracy:  0.9599651794664369\n",
      "Precision:  0.9779544501376707\n",
      "F1 Score:  0.9592816834649471\n",
      "Confusion Matrix:  [[55541  1209]\n",
      " [ 3344 53632]]\n"
     ]
    }
   ],
   "source": [
    "log_reg_pred = log_reg_model1.predict(X_test_selected)\n",
    "get_metrics(y_test,log_reg_pred)"
   ]
  },
  {
   "cell_type": "markdown",
   "id": "b7d81e0a",
   "metadata": {},
   "source": [
    "### K-Nearest Neighbours"
   ]
  },
  {
   "cell_type": "code",
   "execution_count": 27,
   "id": "630e0bc9",
   "metadata": {},
   "outputs": [],
   "source": [
    "KNN_model = KNeighborsClassifier(n_neighbors=10)"
   ]
  },
  {
   "cell_type": "code",
   "execution_count": 28,
   "id": "0f33eb8e",
   "metadata": {},
   "outputs": [
    {
     "data": {
      "text/html": [
       "<style>#sk-container-id-5 {color: black;}#sk-container-id-5 pre{padding: 0;}#sk-container-id-5 div.sk-toggleable {background-color: white;}#sk-container-id-5 label.sk-toggleable__label {cursor: pointer;display: block;width: 100%;margin-bottom: 0;padding: 0.3em;box-sizing: border-box;text-align: center;}#sk-container-id-5 label.sk-toggleable__label-arrow:before {content: \"▸\";float: left;margin-right: 0.25em;color: #696969;}#sk-container-id-5 label.sk-toggleable__label-arrow:hover:before {color: black;}#sk-container-id-5 div.sk-estimator:hover label.sk-toggleable__label-arrow:before {color: black;}#sk-container-id-5 div.sk-toggleable__content {max-height: 0;max-width: 0;overflow: hidden;text-align: left;background-color: #f0f8ff;}#sk-container-id-5 div.sk-toggleable__content pre {margin: 0.2em;color: black;border-radius: 0.25em;background-color: #f0f8ff;}#sk-container-id-5 input.sk-toggleable__control:checked~div.sk-toggleable__content {max-height: 200px;max-width: 100%;overflow: auto;}#sk-container-id-5 input.sk-toggleable__control:checked~label.sk-toggleable__label-arrow:before {content: \"▾\";}#sk-container-id-5 div.sk-estimator input.sk-toggleable__control:checked~label.sk-toggleable__label {background-color: #d4ebff;}#sk-container-id-5 div.sk-label input.sk-toggleable__control:checked~label.sk-toggleable__label {background-color: #d4ebff;}#sk-container-id-5 input.sk-hidden--visually {border: 0;clip: rect(1px 1px 1px 1px);clip: rect(1px, 1px, 1px, 1px);height: 1px;margin: -1px;overflow: hidden;padding: 0;position: absolute;width: 1px;}#sk-container-id-5 div.sk-estimator {font-family: monospace;background-color: #f0f8ff;border: 1px dotted black;border-radius: 0.25em;box-sizing: border-box;margin-bottom: 0.5em;}#sk-container-id-5 div.sk-estimator:hover {background-color: #d4ebff;}#sk-container-id-5 div.sk-parallel-item::after {content: \"\";width: 100%;border-bottom: 1px solid gray;flex-grow: 1;}#sk-container-id-5 div.sk-label:hover label.sk-toggleable__label {background-color: #d4ebff;}#sk-container-id-5 div.sk-serial::before {content: \"\";position: absolute;border-left: 1px solid gray;box-sizing: border-box;top: 0;bottom: 0;left: 50%;z-index: 0;}#sk-container-id-5 div.sk-serial {display: flex;flex-direction: column;align-items: center;background-color: white;padding-right: 0.2em;padding-left: 0.2em;position: relative;}#sk-container-id-5 div.sk-item {position: relative;z-index: 1;}#sk-container-id-5 div.sk-parallel {display: flex;align-items: stretch;justify-content: center;background-color: white;position: relative;}#sk-container-id-5 div.sk-item::before, #sk-container-id-5 div.sk-parallel-item::before {content: \"\";position: absolute;border-left: 1px solid gray;box-sizing: border-box;top: 0;bottom: 0;left: 50%;z-index: -1;}#sk-container-id-5 div.sk-parallel-item {display: flex;flex-direction: column;z-index: 1;position: relative;background-color: white;}#sk-container-id-5 div.sk-parallel-item:first-child::after {align-self: flex-end;width: 50%;}#sk-container-id-5 div.sk-parallel-item:last-child::after {align-self: flex-start;width: 50%;}#sk-container-id-5 div.sk-parallel-item:only-child::after {width: 0;}#sk-container-id-5 div.sk-dashed-wrapped {border: 1px dashed gray;margin: 0 0.4em 0.5em 0.4em;box-sizing: border-box;padding-bottom: 0.4em;background-color: white;}#sk-container-id-5 div.sk-label label {font-family: monospace;font-weight: bold;display: inline-block;line-height: 1.2em;}#sk-container-id-5 div.sk-label-container {text-align: center;}#sk-container-id-5 div.sk-container {/* jupyter's `normalize.less` sets `[hidden] { display: none; }` but bootstrap.min.css set `[hidden] { display: none !important; }` so we also need the `!important` here to be able to override the default hidden behavior on the sphinx rendered scikit-learn.org. See: https://github.com/scikit-learn/scikit-learn/issues/21755 */display: inline-block !important;position: relative;}#sk-container-id-5 div.sk-text-repr-fallback {display: none;}</style><div id=\"sk-container-id-5\" class=\"sk-top-container\"><div class=\"sk-text-repr-fallback\"><pre>KNeighborsClassifier(n_neighbors=10)</pre><b>In a Jupyter environment, please rerun this cell to show the HTML representation or trust the notebook. <br />On GitHub, the HTML representation is unable to render, please try loading this page with nbviewer.org.</b></div><div class=\"sk-container\" hidden><div class=\"sk-item\"><div class=\"sk-estimator sk-toggleable\"><input class=\"sk-toggleable__control sk-hidden--visually\" id=\"sk-estimator-id-5\" type=\"checkbox\" checked><label for=\"sk-estimator-id-5\" class=\"sk-toggleable__label sk-toggleable__label-arrow\">KNeighborsClassifier</label><div class=\"sk-toggleable__content\"><pre>KNeighborsClassifier(n_neighbors=10)</pre></div></div></div></div></div>"
      ],
      "text/plain": [
       "KNeighborsClassifier(n_neighbors=10)"
      ]
     },
     "execution_count": 28,
     "metadata": {},
     "output_type": "execute_result"
    }
   ],
   "source": [
    "KNN_model.fit(X_train_selected,y_train)"
   ]
  },
  {
   "cell_type": "code",
   "execution_count": 29,
   "id": "671e3beb",
   "metadata": {},
   "outputs": [
    {
     "name": "stdout",
     "output_type": "stream",
     "text": [
      "Test Accuracy:  0.9973620807906723\n",
      "Precision:  0.9947622040645296\n",
      "F1 Score:  0.997374225396492\n",
      "Confusion Matrix:  [[56450   300]\n",
      " [    0 56976]]\n"
     ]
    }
   ],
   "source": [
    "KNN_pred = KNN_model.predict(X_test_selected)\n",
    "get_metrics(y_test,KNN_pred)"
   ]
  },
  {
   "cell_type": "markdown",
   "id": "12b83570",
   "metadata": {},
   "source": [
    "### Random-Forest Classifier"
   ]
  },
  {
   "cell_type": "code",
   "execution_count": 30,
   "id": "54890c4b",
   "metadata": {},
   "outputs": [
    {
     "name": "stdout",
     "output_type": "stream",
     "text": [
      "Test Accuracy:  0.9997625872711605\n",
      "Precision:  0.9995613958139616\n",
      "F1 Score:  0.9997631059442861\n",
      "Confusion Matrix:  [[56725    25]\n",
      " [    2 56974]]\n"
     ]
    }
   ],
   "source": [
    "RF_classifier = RandomForestClassifier(n_estimators=100, random_state=42)  # Replace with your chosen classifier\n",
    "RF_classifier.fit(X_train_selected, y_train)\n",
    "RF_pred = RF_classifier.predict(X_test_selected)\n",
    "get_metrics(y_test,RF_pred)"
   ]
  },
  {
   "cell_type": "code",
   "execution_count": 31,
   "id": "b626e8c2",
   "metadata": {},
   "outputs": [],
   "source": [
    "X_train_selected_df = pd.DataFrame(X_train_selected, columns=['V2', 'V3', 'V4', 'V7', 'V10', 'V11', 'V12', 'V14', 'V16', 'V17'])  # Replace with actual feature names\n",
    "X_test_selected_df = pd.DataFrame(X_test_selected, columns=['V2', 'V3', 'V4', 'V7', 'V10', 'V11', 'V12', 'V14', 'V16', 'V17'])  # Replace with actual feature names\n",
    "y_train_df = pd.DataFrame({'Class': y_train})\n",
    "y_test_df = pd.DataFrame({'Class': y_test})"
   ]
  },
  {
   "cell_type": "markdown",
   "id": "215b5fa7",
   "metadata": {},
   "source": [
    "## Anomaly Detection"
   ]
  },
  {
   "cell_type": "markdown",
   "id": "5f639f6c",
   "metadata": {},
   "source": [
    "<h3>Extracting the non-fraud data "
   ]
  },
  {
   "cell_type": "code",
   "execution_count": 34,
   "id": "3c454657",
   "metadata": {},
   "outputs": [
    {
     "data": {
      "text/html": [
       "<div>\n",
       "<style scoped>\n",
       "    .dataframe tbody tr th:only-of-type {\n",
       "        vertical-align: middle;\n",
       "    }\n",
       "\n",
       "    .dataframe tbody tr th {\n",
       "        vertical-align: top;\n",
       "    }\n",
       "\n",
       "    .dataframe thead th {\n",
       "        text-align: right;\n",
       "    }\n",
       "</style>\n",
       "<table border=\"1\" class=\"dataframe\">\n",
       "  <thead>\n",
       "    <tr style=\"text-align: right;\">\n",
       "      <th></th>\n",
       "      <th>V2</th>\n",
       "      <th>V3</th>\n",
       "      <th>V4</th>\n",
       "      <th>V7</th>\n",
       "      <th>V10</th>\n",
       "      <th>V11</th>\n",
       "      <th>V12</th>\n",
       "      <th>V14</th>\n",
       "      <th>V16</th>\n",
       "      <th>V17</th>\n",
       "      <th>Class</th>\n",
       "    </tr>\n",
       "  </thead>\n",
       "  <tbody>\n",
       "    <tr>\n",
       "      <th>0</th>\n",
       "      <td>0.258267</td>\n",
       "      <td>-0.350112</td>\n",
       "      <td>0.805699</td>\n",
       "      <td>-0.081985</td>\n",
       "      <td>-0.244261</td>\n",
       "      <td>0.585588</td>\n",
       "      <td>-0.583373</td>\n",
       "      <td>-0.708119</td>\n",
       "      <td>-0.296001</td>\n",
       "      <td>-0.368420</td>\n",
       "      <td>1</td>\n",
       "    </tr>\n",
       "    <tr>\n",
       "      <th>1</th>\n",
       "      <td>0.885542</td>\n",
       "      <td>-1.101482</td>\n",
       "      <td>1.184015</td>\n",
       "      <td>-0.628918</td>\n",
       "      <td>-0.891281</td>\n",
       "      <td>1.085265</td>\n",
       "      <td>-1.197058</td>\n",
       "      <td>-1.116212</td>\n",
       "      <td>-0.969169</td>\n",
       "      <td>-0.846299</td>\n",
       "      <td>1</td>\n",
       "    </tr>\n",
       "    <tr>\n",
       "      <th>2</th>\n",
       "      <td>0.176296</td>\n",
       "      <td>-0.477150</td>\n",
       "      <td>-0.006199</td>\n",
       "      <td>-0.226751</td>\n",
       "      <td>-0.557557</td>\n",
       "      <td>0.914718</td>\n",
       "      <td>-0.976213</td>\n",
       "      <td>-1.181056</td>\n",
       "      <td>-0.956306</td>\n",
       "      <td>-0.952772</td>\n",
       "      <td>1</td>\n",
       "    </tr>\n",
       "    <tr>\n",
       "      <th>3</th>\n",
       "      <td>-0.470973</td>\n",
       "      <td>2.492266</td>\n",
       "      <td>-0.415108</td>\n",
       "      <td>0.211097</td>\n",
       "      <td>0.471432</td>\n",
       "      <td>-1.631645</td>\n",
       "      <td>1.259970</td>\n",
       "      <td>0.123190</td>\n",
       "      <td>0.046376</td>\n",
       "      <td>0.682463</td>\n",
       "      <td>0</td>\n",
       "    </tr>\n",
       "    <tr>\n",
       "      <th>4</th>\n",
       "      <td>-0.574234</td>\n",
       "      <td>-0.252418</td>\n",
       "      <td>-1.009704</td>\n",
       "      <td>0.279503</td>\n",
       "      <td>0.638240</td>\n",
       "      <td>-0.603385</td>\n",
       "      <td>0.902407</td>\n",
       "      <td>1.010024</td>\n",
       "      <td>0.366220</td>\n",
       "      <td>0.327848</td>\n",
       "      <td>0</td>\n",
       "    </tr>\n",
       "    <tr>\n",
       "      <th>...</th>\n",
       "      <td>...</td>\n",
       "      <td>...</td>\n",
       "      <td>...</td>\n",
       "      <td>...</td>\n",
       "      <td>...</td>\n",
       "      <td>...</td>\n",
       "      <td>...</td>\n",
       "      <td>...</td>\n",
       "      <td>...</td>\n",
       "      <td>...</td>\n",
       "      <td>...</td>\n",
       "    </tr>\n",
       "    <tr>\n",
       "      <th>454899</th>\n",
       "      <td>-0.817010</td>\n",
       "      <td>0.940208</td>\n",
       "      <td>-1.305942</td>\n",
       "      <td>0.241876</td>\n",
       "      <td>0.226563</td>\n",
       "      <td>0.071581</td>\n",
       "      <td>1.883148</td>\n",
       "      <td>0.736602</td>\n",
       "      <td>0.322040</td>\n",
       "      <td>0.367059</td>\n",
       "      <td>0</td>\n",
       "    </tr>\n",
       "    <tr>\n",
       "      <th>454900</th>\n",
       "      <td>-0.395999</td>\n",
       "      <td>0.073640</td>\n",
       "      <td>-1.321759</td>\n",
       "      <td>0.282927</td>\n",
       "      <td>0.351620</td>\n",
       "      <td>-0.889150</td>\n",
       "      <td>0.866645</td>\n",
       "      <td>0.933930</td>\n",
       "      <td>0.500894</td>\n",
       "      <td>0.301394</td>\n",
       "      <td>0</td>\n",
       "    </tr>\n",
       "    <tr>\n",
       "      <th>454901</th>\n",
       "      <td>-0.240832</td>\n",
       "      <td>-0.806786</td>\n",
       "      <td>0.966037</td>\n",
       "      <td>-1.072630</td>\n",
       "      <td>-1.064006</td>\n",
       "      <td>1.430046</td>\n",
       "      <td>-1.289472</td>\n",
       "      <td>-1.297845</td>\n",
       "      <td>-1.455102</td>\n",
       "      <td>-1.541265</td>\n",
       "      <td>1</td>\n",
       "    </tr>\n",
       "    <tr>\n",
       "      <th>454902</th>\n",
       "      <td>-0.130149</td>\n",
       "      <td>1.505652</td>\n",
       "      <td>-0.413064</td>\n",
       "      <td>0.864421</td>\n",
       "      <td>0.511333</td>\n",
       "      <td>-0.860830</td>\n",
       "      <td>0.630806</td>\n",
       "      <td>0.691261</td>\n",
       "      <td>0.380930</td>\n",
       "      <td>0.280276</td>\n",
       "      <td>0</td>\n",
       "    </tr>\n",
       "    <tr>\n",
       "      <th>454903</th>\n",
       "      <td>-0.730772</td>\n",
       "      <td>0.677877</td>\n",
       "      <td>-0.992364</td>\n",
       "      <td>0.272472</td>\n",
       "      <td>0.855500</td>\n",
       "      <td>-0.982353</td>\n",
       "      <td>0.390157</td>\n",
       "      <td>0.533387</td>\n",
       "      <td>1.722440</td>\n",
       "      <td>0.427102</td>\n",
       "      <td>0</td>\n",
       "    </tr>\n",
       "  </tbody>\n",
       "</table>\n",
       "<p>454904 rows × 11 columns</p>\n",
       "</div>"
      ],
      "text/plain": [
       "              V2        V3        V4        V7       V10       V11       V12  \\\n",
       "0       0.258267 -0.350112  0.805699 -0.081985 -0.244261  0.585588 -0.583373   \n",
       "1       0.885542 -1.101482  1.184015 -0.628918 -0.891281  1.085265 -1.197058   \n",
       "2       0.176296 -0.477150 -0.006199 -0.226751 -0.557557  0.914718 -0.976213   \n",
       "3      -0.470973  2.492266 -0.415108  0.211097  0.471432 -1.631645  1.259970   \n",
       "4      -0.574234 -0.252418 -1.009704  0.279503  0.638240 -0.603385  0.902407   \n",
       "...          ...       ...       ...       ...       ...       ...       ...   \n",
       "454899 -0.817010  0.940208 -1.305942  0.241876  0.226563  0.071581  1.883148   \n",
       "454900 -0.395999  0.073640 -1.321759  0.282927  0.351620 -0.889150  0.866645   \n",
       "454901 -0.240832 -0.806786  0.966037 -1.072630 -1.064006  1.430046 -1.289472   \n",
       "454902 -0.130149  1.505652 -0.413064  0.864421  0.511333 -0.860830  0.630806   \n",
       "454903 -0.730772  0.677877 -0.992364  0.272472  0.855500 -0.982353  0.390157   \n",
       "\n",
       "             V14       V16       V17  Class  \n",
       "0      -0.708119 -0.296001 -0.368420      1  \n",
       "1      -1.116212 -0.969169 -0.846299      1  \n",
       "2      -1.181056 -0.956306 -0.952772      1  \n",
       "3       0.123190  0.046376  0.682463      0  \n",
       "4       1.010024  0.366220  0.327848      0  \n",
       "...          ...       ...       ...    ...  \n",
       "454899  0.736602  0.322040  0.367059      0  \n",
       "454900  0.933930  0.500894  0.301394      0  \n",
       "454901 -1.297845 -1.455102 -1.541265      1  \n",
       "454902  0.691261  0.380930  0.280276      0  \n",
       "454903  0.533387  1.722440  0.427102      0  \n",
       "\n",
       "[454904 rows x 11 columns]"
      ]
     },
     "execution_count": 34,
     "metadata": {},
     "output_type": "execute_result"
    }
   ],
   "source": [
    "x_train = pd.concat([X_train_selected_df,y_train_df], axis=1)\n",
    "x_train"
   ]
  },
  {
   "cell_type": "code",
   "execution_count": 35,
   "id": "5ade14e9",
   "metadata": {},
   "outputs": [
    {
     "data": {
      "text/html": [
       "<div>\n",
       "<style scoped>\n",
       "    .dataframe tbody tr th:only-of-type {\n",
       "        vertical-align: middle;\n",
       "    }\n",
       "\n",
       "    .dataframe tbody tr th {\n",
       "        vertical-align: top;\n",
       "    }\n",
       "\n",
       "    .dataframe thead th {\n",
       "        text-align: right;\n",
       "    }\n",
       "</style>\n",
       "<table border=\"1\" class=\"dataframe\">\n",
       "  <thead>\n",
       "    <tr style=\"text-align: right;\">\n",
       "      <th></th>\n",
       "      <th>V2</th>\n",
       "      <th>V3</th>\n",
       "      <th>V4</th>\n",
       "      <th>V7</th>\n",
       "      <th>V10</th>\n",
       "      <th>V11</th>\n",
       "      <th>V12</th>\n",
       "      <th>V14</th>\n",
       "      <th>V16</th>\n",
       "      <th>V17</th>\n",
       "      <th>Class</th>\n",
       "    </tr>\n",
       "  </thead>\n",
       "  <tbody>\n",
       "    <tr>\n",
       "      <th>3</th>\n",
       "      <td>-0.470973</td>\n",
       "      <td>2.492266</td>\n",
       "      <td>-0.415108</td>\n",
       "      <td>0.211097</td>\n",
       "      <td>0.471432</td>\n",
       "      <td>-1.631645</td>\n",
       "      <td>1.259970</td>\n",
       "      <td>0.123190</td>\n",
       "      <td>0.046376</td>\n",
       "      <td>0.682463</td>\n",
       "      <td>0</td>\n",
       "    </tr>\n",
       "    <tr>\n",
       "      <th>4</th>\n",
       "      <td>-0.574234</td>\n",
       "      <td>-0.252418</td>\n",
       "      <td>-1.009704</td>\n",
       "      <td>0.279503</td>\n",
       "      <td>0.638240</td>\n",
       "      <td>-0.603385</td>\n",
       "      <td>0.902407</td>\n",
       "      <td>1.010024</td>\n",
       "      <td>0.366220</td>\n",
       "      <td>0.327848</td>\n",
       "      <td>0</td>\n",
       "    </tr>\n",
       "    <tr>\n",
       "      <th>5</th>\n",
       "      <td>-0.690995</td>\n",
       "      <td>0.620787</td>\n",
       "      <td>-0.699791</td>\n",
       "      <td>0.212291</td>\n",
       "      <td>0.879648</td>\n",
       "      <td>0.214704</td>\n",
       "      <td>2.001494</td>\n",
       "      <td>0.742794</td>\n",
       "      <td>-0.599816</td>\n",
       "      <td>0.956339</td>\n",
       "      <td>0</td>\n",
       "    </tr>\n",
       "    <tr>\n",
       "      <th>6</th>\n",
       "      <td>-0.201481</td>\n",
       "      <td>0.651818</td>\n",
       "      <td>-0.981374</td>\n",
       "      <td>0.758744</td>\n",
       "      <td>0.503662</td>\n",
       "      <td>-0.184964</td>\n",
       "      <td>1.098574</td>\n",
       "      <td>0.956897</td>\n",
       "      <td>0.491022</td>\n",
       "      <td>0.279300</td>\n",
       "      <td>0</td>\n",
       "    </tr>\n",
       "    <tr>\n",
       "      <th>9</th>\n",
       "      <td>-1.510886</td>\n",
       "      <td>0.473512</td>\n",
       "      <td>-1.420373</td>\n",
       "      <td>0.494731</td>\n",
       "      <td>-0.018134</td>\n",
       "      <td>-0.850026</td>\n",
       "      <td>1.336018</td>\n",
       "      <td>0.721606</td>\n",
       "      <td>0.082701</td>\n",
       "      <td>0.448652</td>\n",
       "      <td>0</td>\n",
       "    </tr>\n",
       "    <tr>\n",
       "      <th>...</th>\n",
       "      <td>...</td>\n",
       "      <td>...</td>\n",
       "      <td>...</td>\n",
       "      <td>...</td>\n",
       "      <td>...</td>\n",
       "      <td>...</td>\n",
       "      <td>...</td>\n",
       "      <td>...</td>\n",
       "      <td>...</td>\n",
       "      <td>...</td>\n",
       "      <td>...</td>\n",
       "    </tr>\n",
       "    <tr>\n",
       "      <th>454898</th>\n",
       "      <td>-0.456169</td>\n",
       "      <td>2.494238</td>\n",
       "      <td>-1.744935</td>\n",
       "      <td>0.333747</td>\n",
       "      <td>0.570851</td>\n",
       "      <td>0.102682</td>\n",
       "      <td>0.443045</td>\n",
       "      <td>0.555446</td>\n",
       "      <td>1.770121</td>\n",
       "      <td>0.426710</td>\n",
       "      <td>0</td>\n",
       "    </tr>\n",
       "    <tr>\n",
       "      <th>454899</th>\n",
       "      <td>-0.817010</td>\n",
       "      <td>0.940208</td>\n",
       "      <td>-1.305942</td>\n",
       "      <td>0.241876</td>\n",
       "      <td>0.226563</td>\n",
       "      <td>0.071581</td>\n",
       "      <td>1.883148</td>\n",
       "      <td>0.736602</td>\n",
       "      <td>0.322040</td>\n",
       "      <td>0.367059</td>\n",
       "      <td>0</td>\n",
       "    </tr>\n",
       "    <tr>\n",
       "      <th>454900</th>\n",
       "      <td>-0.395999</td>\n",
       "      <td>0.073640</td>\n",
       "      <td>-1.321759</td>\n",
       "      <td>0.282927</td>\n",
       "      <td>0.351620</td>\n",
       "      <td>-0.889150</td>\n",
       "      <td>0.866645</td>\n",
       "      <td>0.933930</td>\n",
       "      <td>0.500894</td>\n",
       "      <td>0.301394</td>\n",
       "      <td>0</td>\n",
       "    </tr>\n",
       "    <tr>\n",
       "      <th>454902</th>\n",
       "      <td>-0.130149</td>\n",
       "      <td>1.505652</td>\n",
       "      <td>-0.413064</td>\n",
       "      <td>0.864421</td>\n",
       "      <td>0.511333</td>\n",
       "      <td>-0.860830</td>\n",
       "      <td>0.630806</td>\n",
       "      <td>0.691261</td>\n",
       "      <td>0.380930</td>\n",
       "      <td>0.280276</td>\n",
       "      <td>0</td>\n",
       "    </tr>\n",
       "    <tr>\n",
       "      <th>454903</th>\n",
       "      <td>-0.730772</td>\n",
       "      <td>0.677877</td>\n",
       "      <td>-0.992364</td>\n",
       "      <td>0.272472</td>\n",
       "      <td>0.855500</td>\n",
       "      <td>-0.982353</td>\n",
       "      <td>0.390157</td>\n",
       "      <td>0.533387</td>\n",
       "      <td>1.722440</td>\n",
       "      <td>0.427102</td>\n",
       "      <td>0</td>\n",
       "    </tr>\n",
       "  </tbody>\n",
       "</table>\n",
       "<p>227565 rows × 11 columns</p>\n",
       "</div>"
      ],
      "text/plain": [
       "              V2        V3        V4        V7       V10       V11       V12  \\\n",
       "3      -0.470973  2.492266 -0.415108  0.211097  0.471432 -1.631645  1.259970   \n",
       "4      -0.574234 -0.252418 -1.009704  0.279503  0.638240 -0.603385  0.902407   \n",
       "5      -0.690995  0.620787 -0.699791  0.212291  0.879648  0.214704  2.001494   \n",
       "6      -0.201481  0.651818 -0.981374  0.758744  0.503662 -0.184964  1.098574   \n",
       "9      -1.510886  0.473512 -1.420373  0.494731 -0.018134 -0.850026  1.336018   \n",
       "...          ...       ...       ...       ...       ...       ...       ...   \n",
       "454898 -0.456169  2.494238 -1.744935  0.333747  0.570851  0.102682  0.443045   \n",
       "454899 -0.817010  0.940208 -1.305942  0.241876  0.226563  0.071581  1.883148   \n",
       "454900 -0.395999  0.073640 -1.321759  0.282927  0.351620 -0.889150  0.866645   \n",
       "454902 -0.130149  1.505652 -0.413064  0.864421  0.511333 -0.860830  0.630806   \n",
       "454903 -0.730772  0.677877 -0.992364  0.272472  0.855500 -0.982353  0.390157   \n",
       "\n",
       "             V14       V16       V17  Class  \n",
       "3       0.123190  0.046376  0.682463      0  \n",
       "4       1.010024  0.366220  0.327848      0  \n",
       "5       0.742794 -0.599816  0.956339      0  \n",
       "6       0.956897  0.491022  0.279300      0  \n",
       "9       0.721606  0.082701  0.448652      0  \n",
       "...          ...       ...       ...    ...  \n",
       "454898  0.555446  1.770121  0.426710      0  \n",
       "454899  0.736602  0.322040  0.367059      0  \n",
       "454900  0.933930  0.500894  0.301394      0  \n",
       "454902  0.691261  0.380930  0.280276      0  \n",
       "454903  0.533387  1.722440  0.427102      0  \n",
       "\n",
       "[227565 rows x 11 columns]"
      ]
     },
     "execution_count": 35,
     "metadata": {},
     "output_type": "execute_result"
    }
   ],
   "source": [
    "non_fraud_train = x_train[x_train['Class']==0]\n",
    "non_fraud_train"
   ]
  },
  {
   "cell_type": "code",
   "execution_count": 36,
   "id": "469e3faf",
   "metadata": {},
   "outputs": [],
   "source": [
    "x_non_fraud_train = non_fraud_train.iloc[:, :-1]"
   ]
  },
  {
   "cell_type": "code",
   "execution_count": 37,
   "id": "25863d96",
   "metadata": {},
   "outputs": [
    {
     "data": {
      "text/html": [
       "<div>\n",
       "<style scoped>\n",
       "    .dataframe tbody tr th:only-of-type {\n",
       "        vertical-align: middle;\n",
       "    }\n",
       "\n",
       "    .dataframe tbody tr th {\n",
       "        vertical-align: top;\n",
       "    }\n",
       "\n",
       "    .dataframe thead th {\n",
       "        text-align: right;\n",
       "    }\n",
       "</style>\n",
       "<table border=\"1\" class=\"dataframe\">\n",
       "  <thead>\n",
       "    <tr style=\"text-align: right;\">\n",
       "      <th></th>\n",
       "      <th>V2</th>\n",
       "      <th>V3</th>\n",
       "      <th>V4</th>\n",
       "      <th>V7</th>\n",
       "      <th>V10</th>\n",
       "      <th>V11</th>\n",
       "      <th>V12</th>\n",
       "      <th>V14</th>\n",
       "      <th>V16</th>\n",
       "      <th>V17</th>\n",
       "    </tr>\n",
       "  </thead>\n",
       "  <tbody>\n",
       "    <tr>\n",
       "      <th>3</th>\n",
       "      <td>-0.470973</td>\n",
       "      <td>2.492266</td>\n",
       "      <td>-0.415108</td>\n",
       "      <td>0.211097</td>\n",
       "      <td>0.471432</td>\n",
       "      <td>-1.631645</td>\n",
       "      <td>1.259970</td>\n",
       "      <td>0.123190</td>\n",
       "      <td>0.046376</td>\n",
       "      <td>0.682463</td>\n",
       "    </tr>\n",
       "    <tr>\n",
       "      <th>4</th>\n",
       "      <td>-0.574234</td>\n",
       "      <td>-0.252418</td>\n",
       "      <td>-1.009704</td>\n",
       "      <td>0.279503</td>\n",
       "      <td>0.638240</td>\n",
       "      <td>-0.603385</td>\n",
       "      <td>0.902407</td>\n",
       "      <td>1.010024</td>\n",
       "      <td>0.366220</td>\n",
       "      <td>0.327848</td>\n",
       "    </tr>\n",
       "    <tr>\n",
       "      <th>5</th>\n",
       "      <td>-0.690995</td>\n",
       "      <td>0.620787</td>\n",
       "      <td>-0.699791</td>\n",
       "      <td>0.212291</td>\n",
       "      <td>0.879648</td>\n",
       "      <td>0.214704</td>\n",
       "      <td>2.001494</td>\n",
       "      <td>0.742794</td>\n",
       "      <td>-0.599816</td>\n",
       "      <td>0.956339</td>\n",
       "    </tr>\n",
       "    <tr>\n",
       "      <th>6</th>\n",
       "      <td>-0.201481</td>\n",
       "      <td>0.651818</td>\n",
       "      <td>-0.981374</td>\n",
       "      <td>0.758744</td>\n",
       "      <td>0.503662</td>\n",
       "      <td>-0.184964</td>\n",
       "      <td>1.098574</td>\n",
       "      <td>0.956897</td>\n",
       "      <td>0.491022</td>\n",
       "      <td>0.279300</td>\n",
       "    </tr>\n",
       "    <tr>\n",
       "      <th>9</th>\n",
       "      <td>-1.510886</td>\n",
       "      <td>0.473512</td>\n",
       "      <td>-1.420373</td>\n",
       "      <td>0.494731</td>\n",
       "      <td>-0.018134</td>\n",
       "      <td>-0.850026</td>\n",
       "      <td>1.336018</td>\n",
       "      <td>0.721606</td>\n",
       "      <td>0.082701</td>\n",
       "      <td>0.448652</td>\n",
       "    </tr>\n",
       "    <tr>\n",
       "      <th>...</th>\n",
       "      <td>...</td>\n",
       "      <td>...</td>\n",
       "      <td>...</td>\n",
       "      <td>...</td>\n",
       "      <td>...</td>\n",
       "      <td>...</td>\n",
       "      <td>...</td>\n",
       "      <td>...</td>\n",
       "      <td>...</td>\n",
       "      <td>...</td>\n",
       "    </tr>\n",
       "    <tr>\n",
       "      <th>454898</th>\n",
       "      <td>-0.456169</td>\n",
       "      <td>2.494238</td>\n",
       "      <td>-1.744935</td>\n",
       "      <td>0.333747</td>\n",
       "      <td>0.570851</td>\n",
       "      <td>0.102682</td>\n",
       "      <td>0.443045</td>\n",
       "      <td>0.555446</td>\n",
       "      <td>1.770121</td>\n",
       "      <td>0.426710</td>\n",
       "    </tr>\n",
       "    <tr>\n",
       "      <th>454899</th>\n",
       "      <td>-0.817010</td>\n",
       "      <td>0.940208</td>\n",
       "      <td>-1.305942</td>\n",
       "      <td>0.241876</td>\n",
       "      <td>0.226563</td>\n",
       "      <td>0.071581</td>\n",
       "      <td>1.883148</td>\n",
       "      <td>0.736602</td>\n",
       "      <td>0.322040</td>\n",
       "      <td>0.367059</td>\n",
       "    </tr>\n",
       "    <tr>\n",
       "      <th>454900</th>\n",
       "      <td>-0.395999</td>\n",
       "      <td>0.073640</td>\n",
       "      <td>-1.321759</td>\n",
       "      <td>0.282927</td>\n",
       "      <td>0.351620</td>\n",
       "      <td>-0.889150</td>\n",
       "      <td>0.866645</td>\n",
       "      <td>0.933930</td>\n",
       "      <td>0.500894</td>\n",
       "      <td>0.301394</td>\n",
       "    </tr>\n",
       "    <tr>\n",
       "      <th>454902</th>\n",
       "      <td>-0.130149</td>\n",
       "      <td>1.505652</td>\n",
       "      <td>-0.413064</td>\n",
       "      <td>0.864421</td>\n",
       "      <td>0.511333</td>\n",
       "      <td>-0.860830</td>\n",
       "      <td>0.630806</td>\n",
       "      <td>0.691261</td>\n",
       "      <td>0.380930</td>\n",
       "      <td>0.280276</td>\n",
       "    </tr>\n",
       "    <tr>\n",
       "      <th>454903</th>\n",
       "      <td>-0.730772</td>\n",
       "      <td>0.677877</td>\n",
       "      <td>-0.992364</td>\n",
       "      <td>0.272472</td>\n",
       "      <td>0.855500</td>\n",
       "      <td>-0.982353</td>\n",
       "      <td>0.390157</td>\n",
       "      <td>0.533387</td>\n",
       "      <td>1.722440</td>\n",
       "      <td>0.427102</td>\n",
       "    </tr>\n",
       "  </tbody>\n",
       "</table>\n",
       "<p>227565 rows × 10 columns</p>\n",
       "</div>"
      ],
      "text/plain": [
       "              V2        V3        V4        V7       V10       V11       V12  \\\n",
       "3      -0.470973  2.492266 -0.415108  0.211097  0.471432 -1.631645  1.259970   \n",
       "4      -0.574234 -0.252418 -1.009704  0.279503  0.638240 -0.603385  0.902407   \n",
       "5      -0.690995  0.620787 -0.699791  0.212291  0.879648  0.214704  2.001494   \n",
       "6      -0.201481  0.651818 -0.981374  0.758744  0.503662 -0.184964  1.098574   \n",
       "9      -1.510886  0.473512 -1.420373  0.494731 -0.018134 -0.850026  1.336018   \n",
       "...          ...       ...       ...       ...       ...       ...       ...   \n",
       "454898 -0.456169  2.494238 -1.744935  0.333747  0.570851  0.102682  0.443045   \n",
       "454899 -0.817010  0.940208 -1.305942  0.241876  0.226563  0.071581  1.883148   \n",
       "454900 -0.395999  0.073640 -1.321759  0.282927  0.351620 -0.889150  0.866645   \n",
       "454902 -0.130149  1.505652 -0.413064  0.864421  0.511333 -0.860830  0.630806   \n",
       "454903 -0.730772  0.677877 -0.992364  0.272472  0.855500 -0.982353  0.390157   \n",
       "\n",
       "             V14       V16       V17  \n",
       "3       0.123190  0.046376  0.682463  \n",
       "4       1.010024  0.366220  0.327848  \n",
       "5       0.742794 -0.599816  0.956339  \n",
       "6       0.956897  0.491022  0.279300  \n",
       "9       0.721606  0.082701  0.448652  \n",
       "...          ...       ...       ...  \n",
       "454898  0.555446  1.770121  0.426710  \n",
       "454899  0.736602  0.322040  0.367059  \n",
       "454900  0.933930  0.500894  0.301394  \n",
       "454902  0.691261  0.380930  0.280276  \n",
       "454903  0.533387  1.722440  0.427102  \n",
       "\n",
       "[227565 rows x 10 columns]"
      ]
     },
     "execution_count": 37,
     "metadata": {},
     "output_type": "execute_result"
    }
   ],
   "source": [
    "x_non_fraud_train"
   ]
  },
  {
   "cell_type": "markdown",
   "id": "d2a500cc",
   "metadata": {},
   "source": [
    "<h3>Isolation Forest Model"
   ]
  },
  {
   "cell_type": "code",
   "execution_count": 38,
   "id": "731c6663",
   "metadata": {},
   "outputs": [
    {
     "data": {
      "text/html": [
       "<style>#sk-container-id-6 {color: black;}#sk-container-id-6 pre{padding: 0;}#sk-container-id-6 div.sk-toggleable {background-color: white;}#sk-container-id-6 label.sk-toggleable__label {cursor: pointer;display: block;width: 100%;margin-bottom: 0;padding: 0.3em;box-sizing: border-box;text-align: center;}#sk-container-id-6 label.sk-toggleable__label-arrow:before {content: \"▸\";float: left;margin-right: 0.25em;color: #696969;}#sk-container-id-6 label.sk-toggleable__label-arrow:hover:before {color: black;}#sk-container-id-6 div.sk-estimator:hover label.sk-toggleable__label-arrow:before {color: black;}#sk-container-id-6 div.sk-toggleable__content {max-height: 0;max-width: 0;overflow: hidden;text-align: left;background-color: #f0f8ff;}#sk-container-id-6 div.sk-toggleable__content pre {margin: 0.2em;color: black;border-radius: 0.25em;background-color: #f0f8ff;}#sk-container-id-6 input.sk-toggleable__control:checked~div.sk-toggleable__content {max-height: 200px;max-width: 100%;overflow: auto;}#sk-container-id-6 input.sk-toggleable__control:checked~label.sk-toggleable__label-arrow:before {content: \"▾\";}#sk-container-id-6 div.sk-estimator input.sk-toggleable__control:checked~label.sk-toggleable__label {background-color: #d4ebff;}#sk-container-id-6 div.sk-label input.sk-toggleable__control:checked~label.sk-toggleable__label {background-color: #d4ebff;}#sk-container-id-6 input.sk-hidden--visually {border: 0;clip: rect(1px 1px 1px 1px);clip: rect(1px, 1px, 1px, 1px);height: 1px;margin: -1px;overflow: hidden;padding: 0;position: absolute;width: 1px;}#sk-container-id-6 div.sk-estimator {font-family: monospace;background-color: #f0f8ff;border: 1px dotted black;border-radius: 0.25em;box-sizing: border-box;margin-bottom: 0.5em;}#sk-container-id-6 div.sk-estimator:hover {background-color: #d4ebff;}#sk-container-id-6 div.sk-parallel-item::after {content: \"\";width: 100%;border-bottom: 1px solid gray;flex-grow: 1;}#sk-container-id-6 div.sk-label:hover label.sk-toggleable__label {background-color: #d4ebff;}#sk-container-id-6 div.sk-serial::before {content: \"\";position: absolute;border-left: 1px solid gray;box-sizing: border-box;top: 0;bottom: 0;left: 50%;z-index: 0;}#sk-container-id-6 div.sk-serial {display: flex;flex-direction: column;align-items: center;background-color: white;padding-right: 0.2em;padding-left: 0.2em;position: relative;}#sk-container-id-6 div.sk-item {position: relative;z-index: 1;}#sk-container-id-6 div.sk-parallel {display: flex;align-items: stretch;justify-content: center;background-color: white;position: relative;}#sk-container-id-6 div.sk-item::before, #sk-container-id-6 div.sk-parallel-item::before {content: \"\";position: absolute;border-left: 1px solid gray;box-sizing: border-box;top: 0;bottom: 0;left: 50%;z-index: -1;}#sk-container-id-6 div.sk-parallel-item {display: flex;flex-direction: column;z-index: 1;position: relative;background-color: white;}#sk-container-id-6 div.sk-parallel-item:first-child::after {align-self: flex-end;width: 50%;}#sk-container-id-6 div.sk-parallel-item:last-child::after {align-self: flex-start;width: 50%;}#sk-container-id-6 div.sk-parallel-item:only-child::after {width: 0;}#sk-container-id-6 div.sk-dashed-wrapped {border: 1px dashed gray;margin: 0 0.4em 0.5em 0.4em;box-sizing: border-box;padding-bottom: 0.4em;background-color: white;}#sk-container-id-6 div.sk-label label {font-family: monospace;font-weight: bold;display: inline-block;line-height: 1.2em;}#sk-container-id-6 div.sk-label-container {text-align: center;}#sk-container-id-6 div.sk-container {/* jupyter's `normalize.less` sets `[hidden] { display: none; }` but bootstrap.min.css set `[hidden] { display: none !important; }` so we also need the `!important` here to be able to override the default hidden behavior on the sphinx rendered scikit-learn.org. See: https://github.com/scikit-learn/scikit-learn/issues/21755 */display: inline-block !important;position: relative;}#sk-container-id-6 div.sk-text-repr-fallback {display: none;}</style><div id=\"sk-container-id-6\" class=\"sk-top-container\"><div class=\"sk-text-repr-fallback\"><pre>IsolationForest()</pre><b>In a Jupyter environment, please rerun this cell to show the HTML representation or trust the notebook. <br />On GitHub, the HTML representation is unable to render, please try loading this page with nbviewer.org.</b></div><div class=\"sk-container\" hidden><div class=\"sk-item\"><div class=\"sk-estimator sk-toggleable\"><input class=\"sk-toggleable__control sk-hidden--visually\" id=\"sk-estimator-id-6\" type=\"checkbox\" checked><label for=\"sk-estimator-id-6\" class=\"sk-toggleable__label sk-toggleable__label-arrow\">IsolationForest</label><div class=\"sk-toggleable__content\"><pre>IsolationForest()</pre></div></div></div></div></div>"
      ],
      "text/plain": [
       "IsolationForest()"
      ]
     },
     "execution_count": 38,
     "metadata": {},
     "output_type": "execute_result"
    }
   ],
   "source": [
    "# Train Isolation Forest on non-fraud data\n",
    "isolation_forest = IsolationForest(contamination='auto') \n",
    "isolation_forest.fit(x_non_fraud_train)"
   ]
  },
  {
   "cell_type": "code",
   "execution_count": 39,
   "id": "e9073cac",
   "metadata": {},
   "outputs": [
    {
     "name": "stderr",
     "output_type": "stream",
     "text": [
      "/Users/prashantharipirala/opt/anaconda3/lib/python3.9/site-packages/sklearn/base.py:464: UserWarning: X does not have valid feature names, but IsolationForest was fitted with feature names\n",
      "  warnings.warn(\n"
     ]
    }
   ],
   "source": [
    "y_test_predict = isolation_forest.predict(X_test_selected)"
   ]
  },
  {
   "cell_type": "code",
   "execution_count": 40,
   "id": "5f1cd574",
   "metadata": {},
   "outputs": [
    {
     "data": {
      "text/plain": [
       "{-1, 1}"
      ]
     },
     "execution_count": 40,
     "metadata": {},
     "output_type": "execute_result"
    }
   ],
   "source": [
    "set(y_test_predict)"
   ]
  },
  {
   "cell_type": "code",
   "execution_count": 41,
   "id": "10eae7c6",
   "metadata": {},
   "outputs": [],
   "source": [
    "y_test_predict = np.where(y_test_predict == -1, 1, 0)"
   ]
  },
  {
   "cell_type": "code",
   "execution_count": 42,
   "id": "3343d1b3",
   "metadata": {},
   "outputs": [
    {
     "data": {
      "text/plain": [
       "array([1, 1, 0, ..., 1, 1, 0])"
      ]
     },
     "execution_count": 42,
     "metadata": {},
     "output_type": "execute_result"
    }
   ],
   "source": [
    "y_test_predict"
   ]
  },
  {
   "cell_type": "code",
   "execution_count": 43,
   "id": "bfc76a71",
   "metadata": {},
   "outputs": [],
   "source": [
    "y_test_predict = pd.DataFrame(y_test_predict, columns=['Class'])"
   ]
  },
  {
   "cell_type": "code",
   "execution_count": 44,
   "id": "8efd11ec",
   "metadata": {},
   "outputs": [
    {
     "name": "stdout",
     "output_type": "stream",
     "text": [
      "Test Accuracy:  0.9174243356840125\n",
      "Precision:  0.9387089041727361\n",
      "F1 Score:  0.9155553956963915\n",
      "Confusion Matrix:  [[53426  3324]\n",
      " [ 6067 50909]]\n"
     ]
    }
   ],
   "source": [
    "get_metrics(y_test,y_test_predict)"
   ]
  },
  {
   "cell_type": "markdown",
   "id": "49fe8f75",
   "metadata": {},
   "source": [
    "<h3> One-Class SVM Model"
   ]
  },
  {
   "cell_type": "code",
   "execution_count": 45,
   "id": "320564e0",
   "metadata": {},
   "outputs": [
    {
     "data": {
      "text/html": [
       "<style>#sk-container-id-7 {color: black;}#sk-container-id-7 pre{padding: 0;}#sk-container-id-7 div.sk-toggleable {background-color: white;}#sk-container-id-7 label.sk-toggleable__label {cursor: pointer;display: block;width: 100%;margin-bottom: 0;padding: 0.3em;box-sizing: border-box;text-align: center;}#sk-container-id-7 label.sk-toggleable__label-arrow:before {content: \"▸\";float: left;margin-right: 0.25em;color: #696969;}#sk-container-id-7 label.sk-toggleable__label-arrow:hover:before {color: black;}#sk-container-id-7 div.sk-estimator:hover label.sk-toggleable__label-arrow:before {color: black;}#sk-container-id-7 div.sk-toggleable__content {max-height: 0;max-width: 0;overflow: hidden;text-align: left;background-color: #f0f8ff;}#sk-container-id-7 div.sk-toggleable__content pre {margin: 0.2em;color: black;border-radius: 0.25em;background-color: #f0f8ff;}#sk-container-id-7 input.sk-toggleable__control:checked~div.sk-toggleable__content {max-height: 200px;max-width: 100%;overflow: auto;}#sk-container-id-7 input.sk-toggleable__control:checked~label.sk-toggleable__label-arrow:before {content: \"▾\";}#sk-container-id-7 div.sk-estimator input.sk-toggleable__control:checked~label.sk-toggleable__label {background-color: #d4ebff;}#sk-container-id-7 div.sk-label input.sk-toggleable__control:checked~label.sk-toggleable__label {background-color: #d4ebff;}#sk-container-id-7 input.sk-hidden--visually {border: 0;clip: rect(1px 1px 1px 1px);clip: rect(1px, 1px, 1px, 1px);height: 1px;margin: -1px;overflow: hidden;padding: 0;position: absolute;width: 1px;}#sk-container-id-7 div.sk-estimator {font-family: monospace;background-color: #f0f8ff;border: 1px dotted black;border-radius: 0.25em;box-sizing: border-box;margin-bottom: 0.5em;}#sk-container-id-7 div.sk-estimator:hover {background-color: #d4ebff;}#sk-container-id-7 div.sk-parallel-item::after {content: \"\";width: 100%;border-bottom: 1px solid gray;flex-grow: 1;}#sk-container-id-7 div.sk-label:hover label.sk-toggleable__label {background-color: #d4ebff;}#sk-container-id-7 div.sk-serial::before {content: \"\";position: absolute;border-left: 1px solid gray;box-sizing: border-box;top: 0;bottom: 0;left: 50%;z-index: 0;}#sk-container-id-7 div.sk-serial {display: flex;flex-direction: column;align-items: center;background-color: white;padding-right: 0.2em;padding-left: 0.2em;position: relative;}#sk-container-id-7 div.sk-item {position: relative;z-index: 1;}#sk-container-id-7 div.sk-parallel {display: flex;align-items: stretch;justify-content: center;background-color: white;position: relative;}#sk-container-id-7 div.sk-item::before, #sk-container-id-7 div.sk-parallel-item::before {content: \"\";position: absolute;border-left: 1px solid gray;box-sizing: border-box;top: 0;bottom: 0;left: 50%;z-index: -1;}#sk-container-id-7 div.sk-parallel-item {display: flex;flex-direction: column;z-index: 1;position: relative;background-color: white;}#sk-container-id-7 div.sk-parallel-item:first-child::after {align-self: flex-end;width: 50%;}#sk-container-id-7 div.sk-parallel-item:last-child::after {align-self: flex-start;width: 50%;}#sk-container-id-7 div.sk-parallel-item:only-child::after {width: 0;}#sk-container-id-7 div.sk-dashed-wrapped {border: 1px dashed gray;margin: 0 0.4em 0.5em 0.4em;box-sizing: border-box;padding-bottom: 0.4em;background-color: white;}#sk-container-id-7 div.sk-label label {font-family: monospace;font-weight: bold;display: inline-block;line-height: 1.2em;}#sk-container-id-7 div.sk-label-container {text-align: center;}#sk-container-id-7 div.sk-container {/* jupyter's `normalize.less` sets `[hidden] { display: none; }` but bootstrap.min.css set `[hidden] { display: none !important; }` so we also need the `!important` here to be able to override the default hidden behavior on the sphinx rendered scikit-learn.org. See: https://github.com/scikit-learn/scikit-learn/issues/21755 */display: inline-block !important;position: relative;}#sk-container-id-7 div.sk-text-repr-fallback {display: none;}</style><div id=\"sk-container-id-7\" class=\"sk-top-container\"><div class=\"sk-text-repr-fallback\"><pre>OneClassSVM(nu=0.05)</pre><b>In a Jupyter environment, please rerun this cell to show the HTML representation or trust the notebook. <br />On GitHub, the HTML representation is unable to render, please try loading this page with nbviewer.org.</b></div><div class=\"sk-container\" hidden><div class=\"sk-item\"><div class=\"sk-estimator sk-toggleable\"><input class=\"sk-toggleable__control sk-hidden--visually\" id=\"sk-estimator-id-7\" type=\"checkbox\" checked><label for=\"sk-estimator-id-7\" class=\"sk-toggleable__label sk-toggleable__label-arrow\">OneClassSVM</label><div class=\"sk-toggleable__content\"><pre>OneClassSVM(nu=0.05)</pre></div></div></div></div></div>"
      ],
      "text/plain": [
       "OneClassSVM(nu=0.05)"
      ]
     },
     "execution_count": 45,
     "metadata": {},
     "output_type": "execute_result"
    }
   ],
   "source": [
    "# Train One-Class SVM on non-fraud data\n",
    "one_class_svm = OneClassSVM(nu=0.05) \n",
    "one_class_svm.fit(x_non_fraud_train)"
   ]
  },
  {
   "cell_type": "code",
   "execution_count": 46,
   "id": "ac27eefe",
   "metadata": {},
   "outputs": [
    {
     "name": "stderr",
     "output_type": "stream",
     "text": [
      "/Users/prashantharipirala/opt/anaconda3/lib/python3.9/site-packages/sklearn/base.py:464: UserWarning: X does not have valid feature names, but OneClassSVM was fitted with feature names\n",
      "  warnings.warn(\n"
     ]
    }
   ],
   "source": [
    "y_test_predict = one_class_svm.predict(X_test_selected)"
   ]
  },
  {
   "cell_type": "code",
   "execution_count": 47,
   "id": "459b20b7",
   "metadata": {},
   "outputs": [
    {
     "data": {
      "text/plain": [
       "{-1, 1}"
      ]
     },
     "execution_count": 47,
     "metadata": {},
     "output_type": "execute_result"
    }
   ],
   "source": [
    "set(y_test_predict)"
   ]
  },
  {
   "cell_type": "code",
   "execution_count": 48,
   "id": "9ab740c3",
   "metadata": {},
   "outputs": [],
   "source": [
    "y_test_predict = np.where(y_test_predict == -1, 1, 0)        "
   ]
  },
  {
   "cell_type": "code",
   "execution_count": 49,
   "id": "71a5a69c",
   "metadata": {},
   "outputs": [],
   "source": [
    "y_test_predict = pd.DataFrame(y_test_predict, columns=['Class'])"
   ]
  },
  {
   "cell_type": "code",
   "execution_count": 50,
   "id": "b8c72ca7",
   "metadata": {},
   "outputs": [
    {
     "name": "stdout",
     "output_type": "stream",
     "text": [
      "Test Accuracy:  0.9190246733376712\n",
      "Precision:  0.9463121110758134\n",
      "F1 Score:  0.916652336431681\n",
      "Confusion Matrix:  [[53877  2873]\n",
      " [ 6336 50640]]\n"
     ]
    }
   ],
   "source": [
    "get_metrics(y_test,y_test_predict)"
   ]
  },
  {
   "cell_type": "markdown",
   "id": "f2ae28c7",
   "metadata": {},
   "source": [
    "## Hybrid Model"
   ]
  },
  {
   "cell_type": "code",
   "execution_count": 11,
   "id": "de6ff453",
   "metadata": {},
   "outputs": [],
   "source": [
    "classifier = RandomForestClassifier()\n",
    "classifier_pipeline = Pipeline([\n",
    "    ('classifier', classifier)\n",
    "])"
   ]
  },
  {
   "cell_type": "code",
   "execution_count": 12,
   "id": "8e5f7312",
   "metadata": {},
   "outputs": [],
   "source": [
    "classifier_pipeline.fit(X_train_selected, y_train)\n",
    "X_train_class_output = classifier_pipeline.predict_proba(X_train_selected)[:, 0]  # Use probability of positive class\n",
    "X_test_class_output = classifier_pipeline.predict_proba(X_test_selected)[:, 0]"
   ]
  },
  {
   "cell_type": "code",
   "execution_count": 13,
   "id": "baa102a6",
   "metadata": {},
   "outputs": [
    {
     "name": "stdout",
     "output_type": "stream",
     "text": [
      "Value Counts:\n",
      "{0.0: 216475, 0.01: 5883, 0.02: 2090, 0.03: 1062, 0.04: 598, 0.05: 369, 0.06: 277, 0.07: 171, 0.08: 112, 0.09: 78, 0.1: 57, 0.11: 49, 0.12: 26, 0.13: 24, 0.14: 21, 0.15: 17, 0.16: 11, 0.17: 6, 0.18: 4, 0.19: 4, 0.2: 1, 0.21: 1, 0.22: 1, 0.24: 1, 0.3: 1, 0.54: 1, 0.59: 2, 0.6: 2, 0.61: 2, 0.62: 4, 0.63: 1, 0.64: 2, 0.65: 2, 0.66: 4, 0.67: 6, 0.68: 5, 0.69: 2, 0.7: 2, 0.71: 2, 0.72: 9, 0.73: 7, 0.74: 5, 0.75: 8, 0.76: 6, 0.77: 8, 0.78: 15, 0.79: 13, 0.8: 8, 0.81: 9, 0.82: 17, 0.83: 21, 0.84: 24, 0.85: 21, 0.86: 34, 0.87: 55, 0.88: 56, 0.89: 52, 0.9: 88, 0.91: 122, 0.92: 147, 0.93: 213, 0.94: 332, 0.95: 437, 0.96: 812, 0.97: 1386, 0.98: 3261, 0.99: 12353, 1.0: 208009}\n"
     ]
    }
   ],
   "source": [
    "unique_values, counts = np.unique(X_train_class_output, return_counts=True)\n",
    "\n",
    "value_counts_dict = dict(zip(unique_values, counts))\n",
    "\n",
    "print(\"Value Counts:\")\n",
    "print(value_counts_dict)"
   ]
  },
  {
   "cell_type": "code",
   "execution_count": 14,
   "id": "709b367e",
   "metadata": {},
   "outputs": [
    {
     "data": {
      "text/html": [
       "<style>#sk-container-id-2 {color: black;}#sk-container-id-2 pre{padding: 0;}#sk-container-id-2 div.sk-toggleable {background-color: white;}#sk-container-id-2 label.sk-toggleable__label {cursor: pointer;display: block;width: 100%;margin-bottom: 0;padding: 0.3em;box-sizing: border-box;text-align: center;}#sk-container-id-2 label.sk-toggleable__label-arrow:before {content: \"▸\";float: left;margin-right: 0.25em;color: #696969;}#sk-container-id-2 label.sk-toggleable__label-arrow:hover:before {color: black;}#sk-container-id-2 div.sk-estimator:hover label.sk-toggleable__label-arrow:before {color: black;}#sk-container-id-2 div.sk-toggleable__content {max-height: 0;max-width: 0;overflow: hidden;text-align: left;background-color: #f0f8ff;}#sk-container-id-2 div.sk-toggleable__content pre {margin: 0.2em;color: black;border-radius: 0.25em;background-color: #f0f8ff;}#sk-container-id-2 input.sk-toggleable__control:checked~div.sk-toggleable__content {max-height: 200px;max-width: 100%;overflow: auto;}#sk-container-id-2 input.sk-toggleable__control:checked~label.sk-toggleable__label-arrow:before {content: \"▾\";}#sk-container-id-2 div.sk-estimator input.sk-toggleable__control:checked~label.sk-toggleable__label {background-color: #d4ebff;}#sk-container-id-2 div.sk-label input.sk-toggleable__control:checked~label.sk-toggleable__label {background-color: #d4ebff;}#sk-container-id-2 input.sk-hidden--visually {border: 0;clip: rect(1px 1px 1px 1px);clip: rect(1px, 1px, 1px, 1px);height: 1px;margin: -1px;overflow: hidden;padding: 0;position: absolute;width: 1px;}#sk-container-id-2 div.sk-estimator {font-family: monospace;background-color: #f0f8ff;border: 1px dotted black;border-radius: 0.25em;box-sizing: border-box;margin-bottom: 0.5em;}#sk-container-id-2 div.sk-estimator:hover {background-color: #d4ebff;}#sk-container-id-2 div.sk-parallel-item::after {content: \"\";width: 100%;border-bottom: 1px solid gray;flex-grow: 1;}#sk-container-id-2 div.sk-label:hover label.sk-toggleable__label {background-color: #d4ebff;}#sk-container-id-2 div.sk-serial::before {content: \"\";position: absolute;border-left: 1px solid gray;box-sizing: border-box;top: 0;bottom: 0;left: 50%;z-index: 0;}#sk-container-id-2 div.sk-serial {display: flex;flex-direction: column;align-items: center;background-color: white;padding-right: 0.2em;padding-left: 0.2em;position: relative;}#sk-container-id-2 div.sk-item {position: relative;z-index: 1;}#sk-container-id-2 div.sk-parallel {display: flex;align-items: stretch;justify-content: center;background-color: white;position: relative;}#sk-container-id-2 div.sk-item::before, #sk-container-id-2 div.sk-parallel-item::before {content: \"\";position: absolute;border-left: 1px solid gray;box-sizing: border-box;top: 0;bottom: 0;left: 50%;z-index: -1;}#sk-container-id-2 div.sk-parallel-item {display: flex;flex-direction: column;z-index: 1;position: relative;background-color: white;}#sk-container-id-2 div.sk-parallel-item:first-child::after {align-self: flex-end;width: 50%;}#sk-container-id-2 div.sk-parallel-item:last-child::after {align-self: flex-start;width: 50%;}#sk-container-id-2 div.sk-parallel-item:only-child::after {width: 0;}#sk-container-id-2 div.sk-dashed-wrapped {border: 1px dashed gray;margin: 0 0.4em 0.5em 0.4em;box-sizing: border-box;padding-bottom: 0.4em;background-color: white;}#sk-container-id-2 div.sk-label label {font-family: monospace;font-weight: bold;display: inline-block;line-height: 1.2em;}#sk-container-id-2 div.sk-label-container {text-align: center;}#sk-container-id-2 div.sk-container {/* jupyter's `normalize.less` sets `[hidden] { display: none; }` but bootstrap.min.css set `[hidden] { display: none !important; }` so we also need the `!important` here to be able to override the default hidden behavior on the sphinx rendered scikit-learn.org. See: https://github.com/scikit-learn/scikit-learn/issues/21755 */display: inline-block !important;position: relative;}#sk-container-id-2 div.sk-text-repr-fallback {display: none;}</style><div id=\"sk-container-id-2\" class=\"sk-top-container\"><div class=\"sk-text-repr-fallback\"><pre>OneClassSVM(nu=0.05)</pre><b>In a Jupyter environment, please rerun this cell to show the HTML representation or trust the notebook. <br />On GitHub, the HTML representation is unable to render, please try loading this page with nbviewer.org.</b></div><div class=\"sk-container\" hidden><div class=\"sk-item\"><div class=\"sk-estimator sk-toggleable\"><input class=\"sk-toggleable__control sk-hidden--visually\" id=\"sk-estimator-id-2\" type=\"checkbox\" checked><label for=\"sk-estimator-id-2\" class=\"sk-toggleable__label sk-toggleable__label-arrow\">OneClassSVM</label><div class=\"sk-toggleable__content\"><pre>OneClassSVM(nu=0.05)</pre></div></div></div></div></div>"
      ],
      "text/plain": [
       "OneClassSVM(nu=0.05)"
      ]
     },
     "execution_count": 14,
     "metadata": {},
     "output_type": "execute_result"
    }
   ],
   "source": [
    "anomaly_detector = OneClassSVM(nu=0.05)\n",
    "anomaly_detector.fit(X_train_class_output.reshape(-1, 1))"
   ]
  },
  {
   "cell_type": "code",
   "execution_count": 15,
   "id": "71417779",
   "metadata": {},
   "outputs": [],
   "source": [
    "X_test_anomaly_output = anomaly_detector.predict(X_test_class_output.reshape(-1, 1))"
   ]
  },
  {
   "cell_type": "code",
   "execution_count": 16,
   "id": "b268d225",
   "metadata": {},
   "outputs": [
    {
     "data": {
      "text/plain": [
       "array([-1,  1])"
      ]
     },
     "execution_count": 16,
     "metadata": {},
     "output_type": "execute_result"
    }
   ],
   "source": [
    "np.unique(X_test_anomaly_output)"
   ]
  },
  {
   "cell_type": "code",
   "execution_count": 17,
   "id": "d52701f2",
   "metadata": {},
   "outputs": [],
   "source": [
    "final_predictions = (X_test_anomaly_output == -1).astype(int)"
   ]
  },
  {
   "cell_type": "code",
   "execution_count": 18,
   "id": "e9a01371",
   "metadata": {},
   "outputs": [
    {
     "name": "stdout",
     "output_type": "stream",
     "text": [
      "Test Accuracy:  0.5404920598631799\n",
      "Precision:  0.5230321610591474\n",
      "F1 Score:  0.6721539793472942\n",
      "Confusion Matrix:  [[ 7898 48852]\n",
      " [ 3406 53570]]\n"
     ]
    }
   ],
   "source": [
    "get_metrics(y_test,final_predictions)"
   ]
  }
 ],
 "metadata": {
  "kernelspec": {
   "display_name": "Python 3 (ipykernel)",
   "language": "python",
   "name": "python3"
  },
  "language_info": {
   "codemirror_mode": {
    "name": "ipython",
    "version": 3
   },
   "file_extension": ".py",
   "mimetype": "text/x-python",
   "name": "python",
   "nbconvert_exporter": "python",
   "pygments_lexer": "ipython3",
   "version": "3.9.18"
  }
 },
 "nbformat": 4,
 "nbformat_minor": 5
}
